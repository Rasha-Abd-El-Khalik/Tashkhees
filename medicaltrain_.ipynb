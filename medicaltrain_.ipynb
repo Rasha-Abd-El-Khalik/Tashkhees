{
  "nbformat": 4,
  "nbformat_minor": 0,
  "metadata": {
    "colab": {
      "provenance": [],
      "gpuType": "T4",
      "include_colab_link": true
    },
    "kernelspec": {
      "name": "python3",
      "display_name": "Python 3"
    },
    "language_info": {
      "name": "python"
    },
    "widgets": {
      "application/vnd.jupyter.widget-state+json": {
        "5d5349c6005a4e2594195eff3174241e": {
          "model_module": "@jupyter-widgets/controls",
          "model_name": "HBoxModel",
          "model_module_version": "1.5.0",
          "state": {
            "_dom_classes": [],
            "_model_module": "@jupyter-widgets/controls",
            "_model_module_version": "1.5.0",
            "_model_name": "HBoxModel",
            "_view_count": null,
            "_view_module": "@jupyter-widgets/controls",
            "_view_module_version": "1.5.0",
            "_view_name": "HBoxView",
            "box_style": "",
            "children": [
              "IPY_MODEL_6f4398326be6451f8e340eb6fd6e1021",
              "IPY_MODEL_804afe3085f641d493c1fd52a28edf93",
              "IPY_MODEL_aad74a58946e46e39b6855ae89aa2bb0"
            ],
            "layout": "IPY_MODEL_45cd4b78d7e04b84a7bba9198c07fdf3"
          }
        },
        "6f4398326be6451f8e340eb6fd6e1021": {
          "model_module": "@jupyter-widgets/controls",
          "model_name": "HTMLModel",
          "model_module_version": "1.5.0",
          "state": {
            "_dom_classes": [],
            "_model_module": "@jupyter-widgets/controls",
            "_model_module_version": "1.5.0",
            "_model_name": "HTMLModel",
            "_view_count": null,
            "_view_module": "@jupyter-widgets/controls",
            "_view_module_version": "1.5.0",
            "_view_name": "HTMLView",
            "description": "",
            "description_tooltip": null,
            "layout": "IPY_MODEL_23b3dfeb90e2477c94834e9db1148775",
            "placeholder": "​",
            "style": "IPY_MODEL_37401ab33e53457fa4d589be8a69a517",
            "value": "Map: 100%"
          }
        },
        "804afe3085f641d493c1fd52a28edf93": {
          "model_module": "@jupyter-widgets/controls",
          "model_name": "FloatProgressModel",
          "model_module_version": "1.5.0",
          "state": {
            "_dom_classes": [],
            "_model_module": "@jupyter-widgets/controls",
            "_model_module_version": "1.5.0",
            "_model_name": "FloatProgressModel",
            "_view_count": null,
            "_view_module": "@jupyter-widgets/controls",
            "_view_module_version": "1.5.0",
            "_view_name": "ProgressView",
            "bar_style": "success",
            "description": "",
            "description_tooltip": null,
            "layout": "IPY_MODEL_dd4a3e35f89e400aa8dff394f0410abf",
            "max": 16460,
            "min": 0,
            "orientation": "horizontal",
            "style": "IPY_MODEL_151279b8e6c242319002057ce79bc23f",
            "value": 16460
          }
        },
        "aad74a58946e46e39b6855ae89aa2bb0": {
          "model_module": "@jupyter-widgets/controls",
          "model_name": "HTMLModel",
          "model_module_version": "1.5.0",
          "state": {
            "_dom_classes": [],
            "_model_module": "@jupyter-widgets/controls",
            "_model_module_version": "1.5.0",
            "_model_name": "HTMLModel",
            "_view_count": null,
            "_view_module": "@jupyter-widgets/controls",
            "_view_module_version": "1.5.0",
            "_view_name": "HTMLView",
            "description": "",
            "description_tooltip": null,
            "layout": "IPY_MODEL_46f3ad50ec6e4f498a47f519d9845494",
            "placeholder": "​",
            "style": "IPY_MODEL_414a17dbd1f84ce0b2cb6f0552ed4a7d",
            "value": " 16460/16460 [00:02&lt;00:00, 6387.91 examples/s]"
          }
        },
        "45cd4b78d7e04b84a7bba9198c07fdf3": {
          "model_module": "@jupyter-widgets/base",
          "model_name": "LayoutModel",
          "model_module_version": "1.2.0",
          "state": {
            "_model_module": "@jupyter-widgets/base",
            "_model_module_version": "1.2.0",
            "_model_name": "LayoutModel",
            "_view_count": null,
            "_view_module": "@jupyter-widgets/base",
            "_view_module_version": "1.2.0",
            "_view_name": "LayoutView",
            "align_content": null,
            "align_items": null,
            "align_self": null,
            "border": null,
            "bottom": null,
            "display": null,
            "flex": null,
            "flex_flow": null,
            "grid_area": null,
            "grid_auto_columns": null,
            "grid_auto_flow": null,
            "grid_auto_rows": null,
            "grid_column": null,
            "grid_gap": null,
            "grid_row": null,
            "grid_template_areas": null,
            "grid_template_columns": null,
            "grid_template_rows": null,
            "height": null,
            "justify_content": null,
            "justify_items": null,
            "left": null,
            "margin": null,
            "max_height": null,
            "max_width": null,
            "min_height": null,
            "min_width": null,
            "object_fit": null,
            "object_position": null,
            "order": null,
            "overflow": null,
            "overflow_x": null,
            "overflow_y": null,
            "padding": null,
            "right": null,
            "top": null,
            "visibility": null,
            "width": null
          }
        },
        "23b3dfeb90e2477c94834e9db1148775": {
          "model_module": "@jupyter-widgets/base",
          "model_name": "LayoutModel",
          "model_module_version": "1.2.0",
          "state": {
            "_model_module": "@jupyter-widgets/base",
            "_model_module_version": "1.2.0",
            "_model_name": "LayoutModel",
            "_view_count": null,
            "_view_module": "@jupyter-widgets/base",
            "_view_module_version": "1.2.0",
            "_view_name": "LayoutView",
            "align_content": null,
            "align_items": null,
            "align_self": null,
            "border": null,
            "bottom": null,
            "display": null,
            "flex": null,
            "flex_flow": null,
            "grid_area": null,
            "grid_auto_columns": null,
            "grid_auto_flow": null,
            "grid_auto_rows": null,
            "grid_column": null,
            "grid_gap": null,
            "grid_row": null,
            "grid_template_areas": null,
            "grid_template_columns": null,
            "grid_template_rows": null,
            "height": null,
            "justify_content": null,
            "justify_items": null,
            "left": null,
            "margin": null,
            "max_height": null,
            "max_width": null,
            "min_height": null,
            "min_width": null,
            "object_fit": null,
            "object_position": null,
            "order": null,
            "overflow": null,
            "overflow_x": null,
            "overflow_y": null,
            "padding": null,
            "right": null,
            "top": null,
            "visibility": null,
            "width": null
          }
        },
        "37401ab33e53457fa4d589be8a69a517": {
          "model_module": "@jupyter-widgets/controls",
          "model_name": "DescriptionStyleModel",
          "model_module_version": "1.5.0",
          "state": {
            "_model_module": "@jupyter-widgets/controls",
            "_model_module_version": "1.5.0",
            "_model_name": "DescriptionStyleModel",
            "_view_count": null,
            "_view_module": "@jupyter-widgets/base",
            "_view_module_version": "1.2.0",
            "_view_name": "StyleView",
            "description_width": ""
          }
        },
        "dd4a3e35f89e400aa8dff394f0410abf": {
          "model_module": "@jupyter-widgets/base",
          "model_name": "LayoutModel",
          "model_module_version": "1.2.0",
          "state": {
            "_model_module": "@jupyter-widgets/base",
            "_model_module_version": "1.2.0",
            "_model_name": "LayoutModel",
            "_view_count": null,
            "_view_module": "@jupyter-widgets/base",
            "_view_module_version": "1.2.0",
            "_view_name": "LayoutView",
            "align_content": null,
            "align_items": null,
            "align_self": null,
            "border": null,
            "bottom": null,
            "display": null,
            "flex": null,
            "flex_flow": null,
            "grid_area": null,
            "grid_auto_columns": null,
            "grid_auto_flow": null,
            "grid_auto_rows": null,
            "grid_column": null,
            "grid_gap": null,
            "grid_row": null,
            "grid_template_areas": null,
            "grid_template_columns": null,
            "grid_template_rows": null,
            "height": null,
            "justify_content": null,
            "justify_items": null,
            "left": null,
            "margin": null,
            "max_height": null,
            "max_width": null,
            "min_height": null,
            "min_width": null,
            "object_fit": null,
            "object_position": null,
            "order": null,
            "overflow": null,
            "overflow_x": null,
            "overflow_y": null,
            "padding": null,
            "right": null,
            "top": null,
            "visibility": null,
            "width": null
          }
        },
        "151279b8e6c242319002057ce79bc23f": {
          "model_module": "@jupyter-widgets/controls",
          "model_name": "ProgressStyleModel",
          "model_module_version": "1.5.0",
          "state": {
            "_model_module": "@jupyter-widgets/controls",
            "_model_module_version": "1.5.0",
            "_model_name": "ProgressStyleModel",
            "_view_count": null,
            "_view_module": "@jupyter-widgets/base",
            "_view_module_version": "1.2.0",
            "_view_name": "StyleView",
            "bar_color": null,
            "description_width": ""
          }
        },
        "46f3ad50ec6e4f498a47f519d9845494": {
          "model_module": "@jupyter-widgets/base",
          "model_name": "LayoutModel",
          "model_module_version": "1.2.0",
          "state": {
            "_model_module": "@jupyter-widgets/base",
            "_model_module_version": "1.2.0",
            "_model_name": "LayoutModel",
            "_view_count": null,
            "_view_module": "@jupyter-widgets/base",
            "_view_module_version": "1.2.0",
            "_view_name": "LayoutView",
            "align_content": null,
            "align_items": null,
            "align_self": null,
            "border": null,
            "bottom": null,
            "display": null,
            "flex": null,
            "flex_flow": null,
            "grid_area": null,
            "grid_auto_columns": null,
            "grid_auto_flow": null,
            "grid_auto_rows": null,
            "grid_column": null,
            "grid_gap": null,
            "grid_row": null,
            "grid_template_areas": null,
            "grid_template_columns": null,
            "grid_template_rows": null,
            "height": null,
            "justify_content": null,
            "justify_items": null,
            "left": null,
            "margin": null,
            "max_height": null,
            "max_width": null,
            "min_height": null,
            "min_width": null,
            "object_fit": null,
            "object_position": null,
            "order": null,
            "overflow": null,
            "overflow_x": null,
            "overflow_y": null,
            "padding": null,
            "right": null,
            "top": null,
            "visibility": null,
            "width": null
          }
        },
        "414a17dbd1f84ce0b2cb6f0552ed4a7d": {
          "model_module": "@jupyter-widgets/controls",
          "model_name": "DescriptionStyleModel",
          "model_module_version": "1.5.0",
          "state": {
            "_model_module": "@jupyter-widgets/controls",
            "_model_module_version": "1.5.0",
            "_model_name": "DescriptionStyleModel",
            "_view_count": null,
            "_view_module": "@jupyter-widgets/base",
            "_view_module_version": "1.2.0",
            "_view_name": "StyleView",
            "description_width": ""
          }
        },
        "96d66cd2dd984b51a85fcd7b29046561": {
          "model_module": "@jupyter-widgets/controls",
          "model_name": "HBoxModel",
          "model_module_version": "1.5.0",
          "state": {
            "_dom_classes": [],
            "_model_module": "@jupyter-widgets/controls",
            "_model_module_version": "1.5.0",
            "_model_name": "HBoxModel",
            "_view_count": null,
            "_view_module": "@jupyter-widgets/controls",
            "_view_module_version": "1.5.0",
            "_view_name": "HBoxView",
            "box_style": "",
            "children": [
              "IPY_MODEL_0980f796606c479c97726507c083eeee",
              "IPY_MODEL_90d98ed2ae334a6d9c9b95bb910e2f33",
              "IPY_MODEL_568cb869ecbb4a77b8e1e05755d23e1c"
            ],
            "layout": "IPY_MODEL_2e4d7d1fbd4e4dfaa46fd4f8bdd501a0"
          }
        },
        "0980f796606c479c97726507c083eeee": {
          "model_module": "@jupyter-widgets/controls",
          "model_name": "HTMLModel",
          "model_module_version": "1.5.0",
          "state": {
            "_dom_classes": [],
            "_model_module": "@jupyter-widgets/controls",
            "_model_module_version": "1.5.0",
            "_model_name": "HTMLModel",
            "_view_count": null,
            "_view_module": "@jupyter-widgets/controls",
            "_view_module_version": "1.5.0",
            "_view_name": "HTMLView",
            "description": "",
            "description_tooltip": null,
            "layout": "IPY_MODEL_04028c745d2a47f493276fc7989805db",
            "placeholder": "​",
            "style": "IPY_MODEL_e1c45ff1539047008bcf45ffc57baaf4",
            "value": "Map: 100%"
          }
        },
        "90d98ed2ae334a6d9c9b95bb910e2f33": {
          "model_module": "@jupyter-widgets/controls",
          "model_name": "FloatProgressModel",
          "model_module_version": "1.5.0",
          "state": {
            "_dom_classes": [],
            "_model_module": "@jupyter-widgets/controls",
            "_model_module_version": "1.5.0",
            "_model_name": "FloatProgressModel",
            "_view_count": null,
            "_view_module": "@jupyter-widgets/controls",
            "_view_module_version": "1.5.0",
            "_view_name": "ProgressView",
            "bar_style": "success",
            "description": "",
            "description_tooltip": null,
            "layout": "IPY_MODEL_0cf22b3c50fc4510b5847bf42cb772f7",
            "max": 2905,
            "min": 0,
            "orientation": "horizontal",
            "style": "IPY_MODEL_52e2b2b91d894db6aacff6c782286d35",
            "value": 2905
          }
        },
        "568cb869ecbb4a77b8e1e05755d23e1c": {
          "model_module": "@jupyter-widgets/controls",
          "model_name": "HTMLModel",
          "model_module_version": "1.5.0",
          "state": {
            "_dom_classes": [],
            "_model_module": "@jupyter-widgets/controls",
            "_model_module_version": "1.5.0",
            "_model_name": "HTMLModel",
            "_view_count": null,
            "_view_module": "@jupyter-widgets/controls",
            "_view_module_version": "1.5.0",
            "_view_name": "HTMLView",
            "description": "",
            "description_tooltip": null,
            "layout": "IPY_MODEL_96460c1762f04acf9c027ca3ad578ff3",
            "placeholder": "​",
            "style": "IPY_MODEL_2b96cf17d7d94038b80b98ae71b3a1ac",
            "value": " 2905/2905 [00:00&lt;00:00, 6313.50 examples/s]"
          }
        },
        "2e4d7d1fbd4e4dfaa46fd4f8bdd501a0": {
          "model_module": "@jupyter-widgets/base",
          "model_name": "LayoutModel",
          "model_module_version": "1.2.0",
          "state": {
            "_model_module": "@jupyter-widgets/base",
            "_model_module_version": "1.2.0",
            "_model_name": "LayoutModel",
            "_view_count": null,
            "_view_module": "@jupyter-widgets/base",
            "_view_module_version": "1.2.0",
            "_view_name": "LayoutView",
            "align_content": null,
            "align_items": null,
            "align_self": null,
            "border": null,
            "bottom": null,
            "display": null,
            "flex": null,
            "flex_flow": null,
            "grid_area": null,
            "grid_auto_columns": null,
            "grid_auto_flow": null,
            "grid_auto_rows": null,
            "grid_column": null,
            "grid_gap": null,
            "grid_row": null,
            "grid_template_areas": null,
            "grid_template_columns": null,
            "grid_template_rows": null,
            "height": null,
            "justify_content": null,
            "justify_items": null,
            "left": null,
            "margin": null,
            "max_height": null,
            "max_width": null,
            "min_height": null,
            "min_width": null,
            "object_fit": null,
            "object_position": null,
            "order": null,
            "overflow": null,
            "overflow_x": null,
            "overflow_y": null,
            "padding": null,
            "right": null,
            "top": null,
            "visibility": null,
            "width": null
          }
        },
        "04028c745d2a47f493276fc7989805db": {
          "model_module": "@jupyter-widgets/base",
          "model_name": "LayoutModel",
          "model_module_version": "1.2.0",
          "state": {
            "_model_module": "@jupyter-widgets/base",
            "_model_module_version": "1.2.0",
            "_model_name": "LayoutModel",
            "_view_count": null,
            "_view_module": "@jupyter-widgets/base",
            "_view_module_version": "1.2.0",
            "_view_name": "LayoutView",
            "align_content": null,
            "align_items": null,
            "align_self": null,
            "border": null,
            "bottom": null,
            "display": null,
            "flex": null,
            "flex_flow": null,
            "grid_area": null,
            "grid_auto_columns": null,
            "grid_auto_flow": null,
            "grid_auto_rows": null,
            "grid_column": null,
            "grid_gap": null,
            "grid_row": null,
            "grid_template_areas": null,
            "grid_template_columns": null,
            "grid_template_rows": null,
            "height": null,
            "justify_content": null,
            "justify_items": null,
            "left": null,
            "margin": null,
            "max_height": null,
            "max_width": null,
            "min_height": null,
            "min_width": null,
            "object_fit": null,
            "object_position": null,
            "order": null,
            "overflow": null,
            "overflow_x": null,
            "overflow_y": null,
            "padding": null,
            "right": null,
            "top": null,
            "visibility": null,
            "width": null
          }
        },
        "e1c45ff1539047008bcf45ffc57baaf4": {
          "model_module": "@jupyter-widgets/controls",
          "model_name": "DescriptionStyleModel",
          "model_module_version": "1.5.0",
          "state": {
            "_model_module": "@jupyter-widgets/controls",
            "_model_module_version": "1.5.0",
            "_model_name": "DescriptionStyleModel",
            "_view_count": null,
            "_view_module": "@jupyter-widgets/base",
            "_view_module_version": "1.2.0",
            "_view_name": "StyleView",
            "description_width": ""
          }
        },
        "0cf22b3c50fc4510b5847bf42cb772f7": {
          "model_module": "@jupyter-widgets/base",
          "model_name": "LayoutModel",
          "model_module_version": "1.2.0",
          "state": {
            "_model_module": "@jupyter-widgets/base",
            "_model_module_version": "1.2.0",
            "_model_name": "LayoutModel",
            "_view_count": null,
            "_view_module": "@jupyter-widgets/base",
            "_view_module_version": "1.2.0",
            "_view_name": "LayoutView",
            "align_content": null,
            "align_items": null,
            "align_self": null,
            "border": null,
            "bottom": null,
            "display": null,
            "flex": null,
            "flex_flow": null,
            "grid_area": null,
            "grid_auto_columns": null,
            "grid_auto_flow": null,
            "grid_auto_rows": null,
            "grid_column": null,
            "grid_gap": null,
            "grid_row": null,
            "grid_template_areas": null,
            "grid_template_columns": null,
            "grid_template_rows": null,
            "height": null,
            "justify_content": null,
            "justify_items": null,
            "left": null,
            "margin": null,
            "max_height": null,
            "max_width": null,
            "min_height": null,
            "min_width": null,
            "object_fit": null,
            "object_position": null,
            "order": null,
            "overflow": null,
            "overflow_x": null,
            "overflow_y": null,
            "padding": null,
            "right": null,
            "top": null,
            "visibility": null,
            "width": null
          }
        },
        "52e2b2b91d894db6aacff6c782286d35": {
          "model_module": "@jupyter-widgets/controls",
          "model_name": "ProgressStyleModel",
          "model_module_version": "1.5.0",
          "state": {
            "_model_module": "@jupyter-widgets/controls",
            "_model_module_version": "1.5.0",
            "_model_name": "ProgressStyleModel",
            "_view_count": null,
            "_view_module": "@jupyter-widgets/base",
            "_view_module_version": "1.2.0",
            "_view_name": "StyleView",
            "bar_color": null,
            "description_width": ""
          }
        },
        "96460c1762f04acf9c027ca3ad578ff3": {
          "model_module": "@jupyter-widgets/base",
          "model_name": "LayoutModel",
          "model_module_version": "1.2.0",
          "state": {
            "_model_module": "@jupyter-widgets/base",
            "_model_module_version": "1.2.0",
            "_model_name": "LayoutModel",
            "_view_count": null,
            "_view_module": "@jupyter-widgets/base",
            "_view_module_version": "1.2.0",
            "_view_name": "LayoutView",
            "align_content": null,
            "align_items": null,
            "align_self": null,
            "border": null,
            "bottom": null,
            "display": null,
            "flex": null,
            "flex_flow": null,
            "grid_area": null,
            "grid_auto_columns": null,
            "grid_auto_flow": null,
            "grid_auto_rows": null,
            "grid_column": null,
            "grid_gap": null,
            "grid_row": null,
            "grid_template_areas": null,
            "grid_template_columns": null,
            "grid_template_rows": null,
            "height": null,
            "justify_content": null,
            "justify_items": null,
            "left": null,
            "margin": null,
            "max_height": null,
            "max_width": null,
            "min_height": null,
            "min_width": null,
            "object_fit": null,
            "object_position": null,
            "order": null,
            "overflow": null,
            "overflow_x": null,
            "overflow_y": null,
            "padding": null,
            "right": null,
            "top": null,
            "visibility": null,
            "width": null
          }
        },
        "2b96cf17d7d94038b80b98ae71b3a1ac": {
          "model_module": "@jupyter-widgets/controls",
          "model_name": "DescriptionStyleModel",
          "model_module_version": "1.5.0",
          "state": {
            "_model_module": "@jupyter-widgets/controls",
            "_model_module_version": "1.5.0",
            "_model_name": "DescriptionStyleModel",
            "_view_count": null,
            "_view_module": "@jupyter-widgets/base",
            "_view_module_version": "1.2.0",
            "_view_name": "StyleView",
            "description_width": ""
          }
        }
      }
    },
    "accelerator": "GPU"
  },
  "cells": [
    {
      "cell_type": "markdown",
      "metadata": {
        "id": "view-in-github",
        "colab_type": "text"
      },
      "source": [
        "<a href=\"https://colab.research.google.com/github/Rasha-Abd-El-Khalik/Tashkhees/blob/main/medicaltrain_.ipynb\" target=\"_parent\"><img src=\"https://colab.research.google.com/assets/colab-badge.svg\" alt=\"Open In Colab\"/></a>"
      ]
    },
    {
      "cell_type": "code",
      "source": [
        "import requests\n",
        "from bs4 import BeautifulSoup\n",
        "import csv\n",
        "import time\n",
        "\n",
        "# List of URL paths (بعد التعديل)\n",
        "categories = [\n",
        "    \"امراض-الغدد-الصماء\",\n",
        "    \"امراض-الجهاز-التنفسي\",\n",
        "    \"جراحة-العظام\",\n",
        "    \"جراحة-عامة\",\n",
        "    \"مرض-السكري\"\n",
        "]\n",
        "\n",
        "# Map URL paths to readable Arabic names\n",
        "category_names = {\n",
        "    \"امراض-الغدد-الصماء\": \"الغدد الصماء\",\n",
        "    \"امراض-الجهاز-التنفسي\": \"أمراض الجهاز التنفسي\",\n",
        "    \"جراحة-العظام\": \"جراحة العظام\",\n",
        "    \"جراحة-عامة\": \"جراحة عامة\",\n",
        "    \"مرض-السكري\": \"مرض السكري\"\n",
        "}\n",
        "\n",
        "base_url = \"https://altibbi.com/اسئلة-طبية/\"\n",
        "max_questions = 5000\n",
        "all_data = []\n",
        "\n",
        "for path in categories:\n",
        "    print(f\"Starting category: {category_names[path]}\")\n",
        "    page = 1\n",
        "    data = []\n",
        "\n",
        "    while len(data) < max_questions:\n",
        "        url = f\"{base_url}{path}?page={page}\"\n",
        "        response = requests.get(url)\n",
        "        soup = BeautifulSoup(response.text, \"html.parser\")\n",
        "\n",
        "        articles = soup.find_all(\"article\", class_=\"new-question-item\")\n",
        "        if not articles:\n",
        "            print(f\"No more questions found on page {page}\")\n",
        "            break\n",
        "\n",
        "        for article in articles:\n",
        "            question_tag = article.find(\"h2\", class_=\"question-text\")\n",
        "            question = question_tag.get_text(strip=True) if question_tag else \"N/A\"\n",
        "\n",
        "            answer_tag = article.find(\"div\", itemprop=\"text\")\n",
        "            answer = answer_tag.get_text(strip=True) if answer_tag else \"N/A\"\n",
        "\n",
        "            data.append([category_names[path], question, answer])\n",
        "\n",
        "            if len(data) >= max_questions:\n",
        "                break\n",
        "\n",
        "        page += 1\n",
        "\n",
        "    all_data.extend(data)\n",
        "\n",
        "# Save CSV with separate columns\n",
        "with open(\"medicaldata.csv\", \"w\", newline=\"\", encoding=\"utf-8\") as f:\n",
        "    writer = csv.writer(f)\n",
        "    # Column names\n",
        "    writer.writerow([\"Category\", \"Question\", \"Answer\"])\n",
        "    writer.writerows(all_data)\n",
        "\n",
        "print(\"Scraping finished! CSV saved as 'medicaldata.csv'\")\n"
      ],
      "metadata": {
        "id": "R2AIhly9FklA",
        "colab": {
          "base_uri": "https://localhost:8080/"
        },
        "outputId": "20ee24a1-ec74-4a76-b585-8a6dbe7fdf28"
      },
      "execution_count": null,
      "outputs": [
        {
          "output_type": "stream",
          "name": "stdout",
          "text": [
            "Starting category: الغدد الصماء\n",
            "Starting category: أمراض الجهاز التنفسي\n",
            "Starting category: جراحة العظام\n",
            "No more questions found on page 602\n",
            "Starting category: جراحة عامة\n",
            "Starting category: مرض السكري\n",
            "Scraping finished! CSV saved as 'medicaldata.csv'\n"
          ]
        }
      ]
    },
    {
      "cell_type": "code",
      "source": [
        "import pandas as pd\n",
        "df=pd.read_csv(\"medicaldata.csv\")\n",
        "df.head()"
      ],
      "metadata": {
        "colab": {
          "base_uri": "https://localhost:8080/",
          "height": 206
        },
        "id": "kvo-tHVdUkpj",
        "outputId": "a6fb11f9-7e85-4995-b6c7-988c5854849b"
      },
      "execution_count": null,
      "outputs": [
        {
          "output_type": "execute_result",
          "data": {
            "text/plain": [
              "       Category                                           Question  \\\n",
              "0  الغدد الصماء  هل بإمكاني تناول مكملات غذائية عبارة عن كبسولا...   \n",
              "1  الغدد الصماء  تحليل tsh طالع 0.1 هى كدا الغده نشطه ولا خمول ...   \n",
              "2  الغدد الصماء  عملت فحص للغدة الدرقيه وهذه النتائج \\r\\nFT4 0....   \n",
              "3  الغدد الصماء  هل يناسب استخدام كبسولات جليسينات المغنيسيوم م...   \n",
              "4  الغدد الصماء  حامل في الشهر السادس اعاني من قصور درقي اتناول...   \n",
              "\n",
              "                                              Answer  \n",
              "0  سلامتك،من المهم جداً أن نكون حذرين بشأن تناول ...  \n",
              "1               نشاط بسيط يفضل إجراء فحص لل FT4, FT3  \n",
              "2  وظيفة الغدة سليمة مع ارتفاع المضادات ما يسمى ه...  \n",
              "3  أهلاً بك،سأقدم لك معلومات مفصلة لمساعدتك بشأن ...  \n",
              "4  أتمنى لكِ السلامة، وأتمنى أن تكوني بخير،يعتبر ...  "
            ],
            "text/html": [
              "\n",
              "  <div id=\"df-70e1156d-9c3d-4609-bb01-bbed84731827\" class=\"colab-df-container\">\n",
              "    <div>\n",
              "<style scoped>\n",
              "    .dataframe tbody tr th:only-of-type {\n",
              "        vertical-align: middle;\n",
              "    }\n",
              "\n",
              "    .dataframe tbody tr th {\n",
              "        vertical-align: top;\n",
              "    }\n",
              "\n",
              "    .dataframe thead th {\n",
              "        text-align: right;\n",
              "    }\n",
              "</style>\n",
              "<table border=\"1\" class=\"dataframe\">\n",
              "  <thead>\n",
              "    <tr style=\"text-align: right;\">\n",
              "      <th></th>\n",
              "      <th>Category</th>\n",
              "      <th>Question</th>\n",
              "      <th>Answer</th>\n",
              "    </tr>\n",
              "  </thead>\n",
              "  <tbody>\n",
              "    <tr>\n",
              "      <th>0</th>\n",
              "      <td>الغدد الصماء</td>\n",
              "      <td>هل بإمكاني تناول مكملات غذائية عبارة عن كبسولا...</td>\n",
              "      <td>سلامتك،من المهم جداً أن نكون حذرين بشأن تناول ...</td>\n",
              "    </tr>\n",
              "    <tr>\n",
              "      <th>1</th>\n",
              "      <td>الغدد الصماء</td>\n",
              "      <td>تحليل tsh طالع 0.1 هى كدا الغده نشطه ولا خمول ...</td>\n",
              "      <td>نشاط بسيط يفضل إجراء فحص لل FT4, FT3</td>\n",
              "    </tr>\n",
              "    <tr>\n",
              "      <th>2</th>\n",
              "      <td>الغدد الصماء</td>\n",
              "      <td>عملت فحص للغدة الدرقيه وهذه النتائج \\r\\nFT4 0....</td>\n",
              "      <td>وظيفة الغدة سليمة مع ارتفاع المضادات ما يسمى ه...</td>\n",
              "    </tr>\n",
              "    <tr>\n",
              "      <th>3</th>\n",
              "      <td>الغدد الصماء</td>\n",
              "      <td>هل يناسب استخدام كبسولات جليسينات المغنيسيوم م...</td>\n",
              "      <td>أهلاً بك،سأقدم لك معلومات مفصلة لمساعدتك بشأن ...</td>\n",
              "    </tr>\n",
              "    <tr>\n",
              "      <th>4</th>\n",
              "      <td>الغدد الصماء</td>\n",
              "      <td>حامل في الشهر السادس اعاني من قصور درقي اتناول...</td>\n",
              "      <td>أتمنى لكِ السلامة، وأتمنى أن تكوني بخير،يعتبر ...</td>\n",
              "    </tr>\n",
              "  </tbody>\n",
              "</table>\n",
              "</div>\n",
              "    <div class=\"colab-df-buttons\">\n",
              "\n",
              "  <div class=\"colab-df-container\">\n",
              "    <button class=\"colab-df-convert\" onclick=\"convertToInteractive('df-70e1156d-9c3d-4609-bb01-bbed84731827')\"\n",
              "            title=\"Convert this dataframe to an interactive table.\"\n",
              "            style=\"display:none;\">\n",
              "\n",
              "  <svg xmlns=\"http://www.w3.org/2000/svg\" height=\"24px\" viewBox=\"0 -960 960 960\">\n",
              "    <path d=\"M120-120v-720h720v720H120Zm60-500h600v-160H180v160Zm220 220h160v-160H400v160Zm0 220h160v-160H400v160ZM180-400h160v-160H180v160Zm440 0h160v-160H620v160ZM180-180h160v-160H180v160Zm440 0h160v-160H620v160Z\"/>\n",
              "  </svg>\n",
              "    </button>\n",
              "\n",
              "  <style>\n",
              "    .colab-df-container {\n",
              "      display:flex;\n",
              "      gap: 12px;\n",
              "    }\n",
              "\n",
              "    .colab-df-convert {\n",
              "      background-color: #E8F0FE;\n",
              "      border: none;\n",
              "      border-radius: 50%;\n",
              "      cursor: pointer;\n",
              "      display: none;\n",
              "      fill: #1967D2;\n",
              "      height: 32px;\n",
              "      padding: 0 0 0 0;\n",
              "      width: 32px;\n",
              "    }\n",
              "\n",
              "    .colab-df-convert:hover {\n",
              "      background-color: #E2EBFA;\n",
              "      box-shadow: 0px 1px 2px rgba(60, 64, 67, 0.3), 0px 1px 3px 1px rgba(60, 64, 67, 0.15);\n",
              "      fill: #174EA6;\n",
              "    }\n",
              "\n",
              "    .colab-df-buttons div {\n",
              "      margin-bottom: 4px;\n",
              "    }\n",
              "\n",
              "    [theme=dark] .colab-df-convert {\n",
              "      background-color: #3B4455;\n",
              "      fill: #D2E3FC;\n",
              "    }\n",
              "\n",
              "    [theme=dark] .colab-df-convert:hover {\n",
              "      background-color: #434B5C;\n",
              "      box-shadow: 0px 1px 3px 1px rgba(0, 0, 0, 0.15);\n",
              "      filter: drop-shadow(0px 1px 2px rgba(0, 0, 0, 0.3));\n",
              "      fill: #FFFFFF;\n",
              "    }\n",
              "  </style>\n",
              "\n",
              "    <script>\n",
              "      const buttonEl =\n",
              "        document.querySelector('#df-70e1156d-9c3d-4609-bb01-bbed84731827 button.colab-df-convert');\n",
              "      buttonEl.style.display =\n",
              "        google.colab.kernel.accessAllowed ? 'block' : 'none';\n",
              "\n",
              "      async function convertToInteractive(key) {\n",
              "        const element = document.querySelector('#df-70e1156d-9c3d-4609-bb01-bbed84731827');\n",
              "        const dataTable =\n",
              "          await google.colab.kernel.invokeFunction('convertToInteractive',\n",
              "                                                    [key], {});\n",
              "        if (!dataTable) return;\n",
              "\n",
              "        const docLinkHtml = 'Like what you see? Visit the ' +\n",
              "          '<a target=\"_blank\" href=https://colab.research.google.com/notebooks/data_table.ipynb>data table notebook</a>'\n",
              "          + ' to learn more about interactive tables.';\n",
              "        element.innerHTML = '';\n",
              "        dataTable['output_type'] = 'display_data';\n",
              "        await google.colab.output.renderOutput(dataTable, element);\n",
              "        const docLink = document.createElement('div');\n",
              "        docLink.innerHTML = docLinkHtml;\n",
              "        element.appendChild(docLink);\n",
              "      }\n",
              "    </script>\n",
              "  </div>\n",
              "\n",
              "\n",
              "    <div id=\"df-7ca70204-f717-4609-a197-32386ce33c0e\">\n",
              "      <button class=\"colab-df-quickchart\" onclick=\"quickchart('df-7ca70204-f717-4609-a197-32386ce33c0e')\"\n",
              "                title=\"Suggest charts\"\n",
              "                style=\"display:none;\">\n",
              "\n",
              "<svg xmlns=\"http://www.w3.org/2000/svg\" height=\"24px\"viewBox=\"0 0 24 24\"\n",
              "     width=\"24px\">\n",
              "    <g>\n",
              "        <path d=\"M19 3H5c-1.1 0-2 .9-2 2v14c0 1.1.9 2 2 2h14c1.1 0 2-.9 2-2V5c0-1.1-.9-2-2-2zM9 17H7v-7h2v7zm4 0h-2V7h2v10zm4 0h-2v-4h2v4z\"/>\n",
              "    </g>\n",
              "</svg>\n",
              "      </button>\n",
              "\n",
              "<style>\n",
              "  .colab-df-quickchart {\n",
              "      --bg-color: #E8F0FE;\n",
              "      --fill-color: #1967D2;\n",
              "      --hover-bg-color: #E2EBFA;\n",
              "      --hover-fill-color: #174EA6;\n",
              "      --disabled-fill-color: #AAA;\n",
              "      --disabled-bg-color: #DDD;\n",
              "  }\n",
              "\n",
              "  [theme=dark] .colab-df-quickchart {\n",
              "      --bg-color: #3B4455;\n",
              "      --fill-color: #D2E3FC;\n",
              "      --hover-bg-color: #434B5C;\n",
              "      --hover-fill-color: #FFFFFF;\n",
              "      --disabled-bg-color: #3B4455;\n",
              "      --disabled-fill-color: #666;\n",
              "  }\n",
              "\n",
              "  .colab-df-quickchart {\n",
              "    background-color: var(--bg-color);\n",
              "    border: none;\n",
              "    border-radius: 50%;\n",
              "    cursor: pointer;\n",
              "    display: none;\n",
              "    fill: var(--fill-color);\n",
              "    height: 32px;\n",
              "    padding: 0;\n",
              "    width: 32px;\n",
              "  }\n",
              "\n",
              "  .colab-df-quickchart:hover {\n",
              "    background-color: var(--hover-bg-color);\n",
              "    box-shadow: 0 1px 2px rgba(60, 64, 67, 0.3), 0 1px 3px 1px rgba(60, 64, 67, 0.15);\n",
              "    fill: var(--button-hover-fill-color);\n",
              "  }\n",
              "\n",
              "  .colab-df-quickchart-complete:disabled,\n",
              "  .colab-df-quickchart-complete:disabled:hover {\n",
              "    background-color: var(--disabled-bg-color);\n",
              "    fill: var(--disabled-fill-color);\n",
              "    box-shadow: none;\n",
              "  }\n",
              "\n",
              "  .colab-df-spinner {\n",
              "    border: 2px solid var(--fill-color);\n",
              "    border-color: transparent;\n",
              "    border-bottom-color: var(--fill-color);\n",
              "    animation:\n",
              "      spin 1s steps(1) infinite;\n",
              "  }\n",
              "\n",
              "  @keyframes spin {\n",
              "    0% {\n",
              "      border-color: transparent;\n",
              "      border-bottom-color: var(--fill-color);\n",
              "      border-left-color: var(--fill-color);\n",
              "    }\n",
              "    20% {\n",
              "      border-color: transparent;\n",
              "      border-left-color: var(--fill-color);\n",
              "      border-top-color: var(--fill-color);\n",
              "    }\n",
              "    30% {\n",
              "      border-color: transparent;\n",
              "      border-left-color: var(--fill-color);\n",
              "      border-top-color: var(--fill-color);\n",
              "      border-right-color: var(--fill-color);\n",
              "    }\n",
              "    40% {\n",
              "      border-color: transparent;\n",
              "      border-right-color: var(--fill-color);\n",
              "      border-top-color: var(--fill-color);\n",
              "    }\n",
              "    60% {\n",
              "      border-color: transparent;\n",
              "      border-right-color: var(--fill-color);\n",
              "    }\n",
              "    80% {\n",
              "      border-color: transparent;\n",
              "      border-right-color: var(--fill-color);\n",
              "      border-bottom-color: var(--fill-color);\n",
              "    }\n",
              "    90% {\n",
              "      border-color: transparent;\n",
              "      border-bottom-color: var(--fill-color);\n",
              "    }\n",
              "  }\n",
              "</style>\n",
              "\n",
              "      <script>\n",
              "        async function quickchart(key) {\n",
              "          const quickchartButtonEl =\n",
              "            document.querySelector('#' + key + ' button');\n",
              "          quickchartButtonEl.disabled = true;  // To prevent multiple clicks.\n",
              "          quickchartButtonEl.classList.add('colab-df-spinner');\n",
              "          try {\n",
              "            const charts = await google.colab.kernel.invokeFunction(\n",
              "                'suggestCharts', [key], {});\n",
              "          } catch (error) {\n",
              "            console.error('Error during call to suggestCharts:', error);\n",
              "          }\n",
              "          quickchartButtonEl.classList.remove('colab-df-spinner');\n",
              "          quickchartButtonEl.classList.add('colab-df-quickchart-complete');\n",
              "        }\n",
              "        (() => {\n",
              "          let quickchartButtonEl =\n",
              "            document.querySelector('#df-7ca70204-f717-4609-a197-32386ce33c0e button');\n",
              "          quickchartButtonEl.style.display =\n",
              "            google.colab.kernel.accessAllowed ? 'block' : 'none';\n",
              "        })();\n",
              "      </script>\n",
              "    </div>\n",
              "\n",
              "    </div>\n",
              "  </div>\n"
            ],
            "application/vnd.google.colaboratory.intrinsic+json": {
              "type": "dataframe",
              "variable_name": "df",
              "summary": "{\n  \"name\": \"df\",\n  \"rows\": 24207,\n  \"fields\": [\n    {\n      \"column\": \"Category\",\n      \"properties\": {\n        \"dtype\": \"category\",\n        \"num_unique_values\": 5,\n        \"samples\": [\n          \"\\u0623\\u0645\\u0631\\u0627\\u0636 \\u0627\\u0644\\u062c\\u0647\\u0627\\u0632 \\u0627\\u0644\\u062a\\u0646\\u0641\\u0633\\u064a\",\n          \"\\u0645\\u0631\\u0636 \\u0627\\u0644\\u0633\\u0643\\u0631\\u064a\",\n          \"\\u062c\\u0631\\u0627\\u062d\\u0629 \\u0627\\u0644\\u0639\\u0638\\u0627\\u0645\"\n        ],\n        \"semantic_type\": \"\",\n        \"description\": \"\"\n      }\n    },\n    {\n      \"column\": \"Question\",\n      \"properties\": {\n        \"dtype\": \"string\",\n        \"num_unique_values\": 24194,\n        \"samples\": [\n          \"\\u0637\\u0641\\u0644\\u064a \\u0644\\u0627\\u064a\\u0634\\u0641\\u0649 \\u0645\\u0646 \\u0627\\u0644\\u0633\\u0639\\u0627\\u0644 \\u0648\\u0636\\u064a\\u0642 \\u0627\\u0644\\u062a\\u0646\\u0641\\u0633 \\u0627\\u0644\\u0639\\u0627\\u0645 \\u0627\\u0644\\u0645\\u0627\\u0636\\u064a \\u0627\\u0639\\u0637\\u062a\\u0646\\u064a \\u0627\\u0644\\u062f\\u0643\\u062a\\u0648\\u0631\\u0647 \\u062f\\u0648\\u0627\\u0621 \\u0633\\u0645\\u0627\\u0641\\u0648\\u0631\\u062a \\u0666\\u0627\\u0634\\u0647\\u0631 \\u0648\\u0634\\u0641\\u0649 \\u0647\\u0644 \\u0623\\u0639\\u0637\\u064a\\u0647 \\u0647\\u0630\\u0647 \\u0627\\u0644\\u062f\\u0648\\u0627\\u0621 \\u0645\\u0631\\u0647 \\u062b\\u0627\\u0646\\u064a\\u0647 \\u0639\\u0645\\u0631\\u0647 \\u0633\\u0646\\u062a\\u064a\\u0646 \\u0644\\u0627 \\u064a\\u0646\\u0641\\u0639 \\u0645\\u0639\\u0647 \\u0645\\u0648\\u0633\\u0639 \\u0627\\u0644\\u0642\\u0635\\u0628\\u0627\\u062a \\u0648\\u0644\\u0627 \\u062f\\u0648\\u0627\\u0621 \\u0627\\u0644\\u0633\\u0639\\u0627\\u0644\",\n          \"\\u0645\\u0646\\u0630 \\u062a\\u0633\\u0639\\u0629 \\u0627\\u0634\\u0647\\u0631 \\u062a\\u0644\\u0642\\u064a\\u062a \\u0636\\u0631\\u0628\\u0629 \\u0628\\u0643\\u0631\\u0629\\u0627\\u0644\\u0642\\u062f\\u0645 \\u0639\\u0644\\u0649 \\u0635\\u062f\\u0631\\u064a \\u0645\\u0646 \\u0630\\u0644\\u0643 \\u0627\\u0644\\u064a\\u0648\\u0645  \\u0648\\u0644\\u062f\\u064a \\u0627\\u0631\\u0647\\u0627\\u0642 \\u0639\\u0627\\u0645 \\u0648\\u0639\\u0646\\u062f\\u0627\\u0644\\u0642\\u064a\\u0627\\u0645 \\u0628\\u0645\\u062c\\u0647\\u0648\\u062f \\u0645\\u062b\\u0644 \\u0635\\u0639\\u0648\\u062f \\u0627\\u0644\\u062f\\u0631\\u062c \\u0627\\u0648 \\u0627\\u0644\\u0631\\u0643\\u0636 \\u0627\\u0635\\u0627\\u0628 \\u0628\\u0636\\u064a\\u0642 \\u0627\\u0644\\u062a\\u0646\\u0641\\u0633 \\u0648\\u062d\\u0631\\u0642\\u0629 \\u0641\\u064a \\u0627\\u0644\\u0623\\u0646\\u0641 \\u0648\\u0627\\u0644\\u062d\\u0644\\u0642 \\u0645\\u0639 \\u0627\\u0644\\u0639\\u0644\\u0645...\",\n          \"\\u0645\\u0627\\u0630\\u0627 \\u064a\\u0633\\u0648\\u062c\\u0628 \\u0639\\u0645\\u0644 \\u0644\\u0639\\u0644\\u0627\\u062c \\u0627\\u0644\\u062e\\u0631\\u0627\\u062c \\u0644\\u0645\\u0631\\u0636\\u0649 \\u0627\\u0644\\u0633\\u0643\\u0631\\u064a\"\n        ],\n        \"semantic_type\": \"\",\n        \"description\": \"\"\n      }\n    },\n    {\n      \"column\": \"Answer\",\n      \"properties\": {\n        \"dtype\": \"string\",\n        \"num_unique_values\": 23420,\n        \"samples\": [\n          \"\\u0627\\u0644\\u062c\\u0648\\u0627\\u0628 \\u0637\\u0648\\u064a\\u0644 \\u0648\\u0644\\u0627\\u064a\\u0645\\u0643\\u0646 \\u0627\\u062e\\u062a\\u0635\\u0627\\u0631\\u0647 . \\u0631\\u0627\\u062c\\u0639\\u064a \\u0627\\u0644\\u0637\\u0628\\u064a\\u0628 \\u0645\\u0628\\u0627\\u0634\\u0631\\u0629 \\u0644\\u0635\\u0631\\u0641 \\u0627\\u0644\\u0639\\u0644\\u0627\\u062c \\u0648\\u0627\\u062a\\u0628\\u0627\\u0639 \\u0627\\u0644\\u062d\\u0645\\u064a\\u0629 \\u0648\\u0645\\u0645\\u0627\\u0631\\u0633\\u0629 \\u0627\\u0644\\u0631\\u064a\\u0627\\u0636\\u0629\",\n          \"\\u0646\\u0639\\u0645 \\u0627\\u0630\\u0647\\u0628 \\u0644\\u0644\\u0637\\u0648\\u0627\\u0631\\u0626\",\n          \"\\u0647\\u0646\\u0627\\u0643 \\u0641\\u0631\\u0642 \\u0628\\u064a\\u0646 \\u0636\\u064a\\u0642 \\u0627\\u0644\\u0646\\u0641\\u0633 \\u0627\\u0644\\u0639\\u0634\\u0648\\u0627\\u0626\\u064a \\u060c \\u0648\\u0647\\u0630\\u0627 \\u063a\\u0627\\u0644\\u0628\\u0627 \\u064a\\u0631\\u062c\\u0639 \\u0644\\u0623\\u0633\\u0628\\u0627\\u0628 \\u0646\\u0641\\u0633\\u064a\\u0647\\u060c \\u0648\\u0636\\u064a\\u0642 \\u0627\\u0644\\u0646\\u0641\\u0633 \\u0627\\u0644\\u0645\\u0631\\u062a\\u0628\\u0637 \\u0628\\u0634\\u064a\\u0621 \\u0645\\u0639\\u064a\\u0646 \\u0645\\u062b\\u0644 \\u0627\\u0644\\u0645\\u062c\\u0647\\u0648\\u062f \\u0623\\u0648 \\u0627\\u0644\\u062a\\u0639\\u0631\\u0636 \\u0644\\u0644\\u0623\\u062a\\u0631\\u0628\\u0629 \\u0623\\u0648 \\u0627\\u0644\\u062f\\u062e\\u0627\\u0646 \\u0623\\u0648 \\u0646\\u0648\\u0639 \\u0645\\u0639\\u064a\\u0646 \\u0645\\u0646 \\u0627\\u0644\\u0637\\u0639\\u0627\\u0645 \\u0648\\u0647\\u0630\\u0627 \\u0644\\u0647 \\u0633\\u0628\\u0628 \\u0639\\u0636\\u0648\\u064a \\u0642\\u062f \\u064a\\u0643\\u0648\\u0646 \\u062d\\u0633\\u0627\\u0633\\u064a\\u0629 \\u0628\\u0627\\u0644\\u0635\\u062f\\u0631 (\\u0631\\u0628\\u0648) \\u0623\\u0648 \\u0642\\u0635\\u0648\\u0631 \\u0628\\u0639\\u0636\\u0644\\u0629 \\u0627\\u0644\\u0642\\u0644\\u0628\"\n        ],\n        \"semantic_type\": \"\",\n        \"description\": \"\"\n      }\n    }\n  ]\n}"
            }
          },
          "metadata": {},
          "execution_count": 49
        }
      ]
    },
    {
      "cell_type": "code",
      "source": [
        "category_counts = df['Category'].value_counts()\n",
        "\n",
        "print(category_counts)"
      ],
      "metadata": {
        "colab": {
          "base_uri": "https://localhost:8080/"
        },
        "id": "ESTi7aRkN39R",
        "outputId": "c35f3b10-85c7-46b9-bc29-41fe65b5c18e"
      },
      "execution_count": null,
      "outputs": [
        {
          "output_type": "stream",
          "name": "stdout",
          "text": [
            "Category\n",
            "الغدد الصماء            5000\n",
            "أمراض الجهاز التنفسي    5000\n",
            "جراحة عامة              5000\n",
            "مرض السكري              5000\n",
            "جراحة العظام            4207\n",
            "Name: count, dtype: int64\n"
          ]
        }
      ]
    },
    {
      "cell_type": "code",
      "source": [
        "df.shape"
      ],
      "metadata": {
        "colab": {
          "base_uri": "https://localhost:8080/"
        },
        "id": "v_RgH_5ggqTw",
        "outputId": "1b045858-a085-4c4a-f5ca-eed1a857bd5b"
      },
      "execution_count": null,
      "outputs": [
        {
          "output_type": "execute_result",
          "data": {
            "text/plain": [
              "(24207, 3)"
            ]
          },
          "metadata": {},
          "execution_count": 51
        }
      ]
    },
    {
      "cell_type": "code",
      "source": [
        "df= df.sample(frac=1, random_state=42).reset_index(drop=True)"
      ],
      "metadata": {
        "id": "MCndevxbgu3q"
      },
      "execution_count": null,
      "outputs": []
    },
    {
      "cell_type": "code",
      "source": [
        "df.head()"
      ],
      "metadata": {
        "colab": {
          "base_uri": "https://localhost:8080/",
          "height": 206
        },
        "id": "xAcSjrfWjjV1",
        "outputId": "bbc7d3e7-e45f-4bfa-a2c5-c31bf729e49a"
      },
      "execution_count": null,
      "outputs": [
        {
          "output_type": "execute_result",
          "data": {
            "text/plain": [
              "     Category                                           Question  \\\n",
              "0  مرض السكري  عندما اتناول الطعام واشبع اشعر انني احتاج الى ...   \n",
              "1  جراحة عامة  ظهر قبل سنة ونصف \\r\\nلم يكن هناك اي الآم لكن م...   \n",
              "2  مرض السكري  اعانى في زيادة الوزن بشكل ملحوظ ذهبت للطبيب اع...   \n",
              "3  جراحة عامة  أنا روحت لدكتور أمراض شرجية وكشف عليا قال كان ...   \n",
              "4  مرض السكري  السلام عليكم ٠٠٠في حال ارتفاع السكر في الدم  ع...   \n",
              "\n",
              "                                              Answer  \n",
              "0                       لانه في الاصل لا يجب ان تشبع  \n",
              "1  انا في مصر لاادرى التكلفه بلاردن لاحرج من التو...  \n",
              "2                                       لا مانع لذلك  \n",
              "3  لا ادري ان كان تفجير الخراج من فتحة كافي لتنظي...  \n",
              "4  هذا يحتاج الى نظام متكامل غذائي وعلاجي تحت إشر...  "
            ],
            "text/html": [
              "\n",
              "  <div id=\"df-9b3890da-35b3-489a-a9db-2a70f277aec0\" class=\"colab-df-container\">\n",
              "    <div>\n",
              "<style scoped>\n",
              "    .dataframe tbody tr th:only-of-type {\n",
              "        vertical-align: middle;\n",
              "    }\n",
              "\n",
              "    .dataframe tbody tr th {\n",
              "        vertical-align: top;\n",
              "    }\n",
              "\n",
              "    .dataframe thead th {\n",
              "        text-align: right;\n",
              "    }\n",
              "</style>\n",
              "<table border=\"1\" class=\"dataframe\">\n",
              "  <thead>\n",
              "    <tr style=\"text-align: right;\">\n",
              "      <th></th>\n",
              "      <th>Category</th>\n",
              "      <th>Question</th>\n",
              "      <th>Answer</th>\n",
              "    </tr>\n",
              "  </thead>\n",
              "  <tbody>\n",
              "    <tr>\n",
              "      <th>0</th>\n",
              "      <td>مرض السكري</td>\n",
              "      <td>عندما اتناول الطعام واشبع اشعر انني احتاج الى ...</td>\n",
              "      <td>لانه في الاصل لا يجب ان تشبع</td>\n",
              "    </tr>\n",
              "    <tr>\n",
              "      <th>1</th>\n",
              "      <td>جراحة عامة</td>\n",
              "      <td>ظهر قبل سنة ونصف \\r\\nلم يكن هناك اي الآم لكن م...</td>\n",
              "      <td>انا في مصر لاادرى التكلفه بلاردن لاحرج من التو...</td>\n",
              "    </tr>\n",
              "    <tr>\n",
              "      <th>2</th>\n",
              "      <td>مرض السكري</td>\n",
              "      <td>اعانى في زيادة الوزن بشكل ملحوظ ذهبت للطبيب اع...</td>\n",
              "      <td>لا مانع لذلك</td>\n",
              "    </tr>\n",
              "    <tr>\n",
              "      <th>3</th>\n",
              "      <td>جراحة عامة</td>\n",
              "      <td>أنا روحت لدكتور أمراض شرجية وكشف عليا قال كان ...</td>\n",
              "      <td>لا ادري ان كان تفجير الخراج من فتحة كافي لتنظي...</td>\n",
              "    </tr>\n",
              "    <tr>\n",
              "      <th>4</th>\n",
              "      <td>مرض السكري</td>\n",
              "      <td>السلام عليكم ٠٠٠في حال ارتفاع السكر في الدم  ع...</td>\n",
              "      <td>هذا يحتاج الى نظام متكامل غذائي وعلاجي تحت إشر...</td>\n",
              "    </tr>\n",
              "  </tbody>\n",
              "</table>\n",
              "</div>\n",
              "    <div class=\"colab-df-buttons\">\n",
              "\n",
              "  <div class=\"colab-df-container\">\n",
              "    <button class=\"colab-df-convert\" onclick=\"convertToInteractive('df-9b3890da-35b3-489a-a9db-2a70f277aec0')\"\n",
              "            title=\"Convert this dataframe to an interactive table.\"\n",
              "            style=\"display:none;\">\n",
              "\n",
              "  <svg xmlns=\"http://www.w3.org/2000/svg\" height=\"24px\" viewBox=\"0 -960 960 960\">\n",
              "    <path d=\"M120-120v-720h720v720H120Zm60-500h600v-160H180v160Zm220 220h160v-160H400v160Zm0 220h160v-160H400v160ZM180-400h160v-160H180v160Zm440 0h160v-160H620v160ZM180-180h160v-160H180v160Zm440 0h160v-160H620v160Z\"/>\n",
              "  </svg>\n",
              "    </button>\n",
              "\n",
              "  <style>\n",
              "    .colab-df-container {\n",
              "      display:flex;\n",
              "      gap: 12px;\n",
              "    }\n",
              "\n",
              "    .colab-df-convert {\n",
              "      background-color: #E8F0FE;\n",
              "      border: none;\n",
              "      border-radius: 50%;\n",
              "      cursor: pointer;\n",
              "      display: none;\n",
              "      fill: #1967D2;\n",
              "      height: 32px;\n",
              "      padding: 0 0 0 0;\n",
              "      width: 32px;\n",
              "    }\n",
              "\n",
              "    .colab-df-convert:hover {\n",
              "      background-color: #E2EBFA;\n",
              "      box-shadow: 0px 1px 2px rgba(60, 64, 67, 0.3), 0px 1px 3px 1px rgba(60, 64, 67, 0.15);\n",
              "      fill: #174EA6;\n",
              "    }\n",
              "\n",
              "    .colab-df-buttons div {\n",
              "      margin-bottom: 4px;\n",
              "    }\n",
              "\n",
              "    [theme=dark] .colab-df-convert {\n",
              "      background-color: #3B4455;\n",
              "      fill: #D2E3FC;\n",
              "    }\n",
              "\n",
              "    [theme=dark] .colab-df-convert:hover {\n",
              "      background-color: #434B5C;\n",
              "      box-shadow: 0px 1px 3px 1px rgba(0, 0, 0, 0.15);\n",
              "      filter: drop-shadow(0px 1px 2px rgba(0, 0, 0, 0.3));\n",
              "      fill: #FFFFFF;\n",
              "    }\n",
              "  </style>\n",
              "\n",
              "    <script>\n",
              "      const buttonEl =\n",
              "        document.querySelector('#df-9b3890da-35b3-489a-a9db-2a70f277aec0 button.colab-df-convert');\n",
              "      buttonEl.style.display =\n",
              "        google.colab.kernel.accessAllowed ? 'block' : 'none';\n",
              "\n",
              "      async function convertToInteractive(key) {\n",
              "        const element = document.querySelector('#df-9b3890da-35b3-489a-a9db-2a70f277aec0');\n",
              "        const dataTable =\n",
              "          await google.colab.kernel.invokeFunction('convertToInteractive',\n",
              "                                                    [key], {});\n",
              "        if (!dataTable) return;\n",
              "\n",
              "        const docLinkHtml = 'Like what you see? Visit the ' +\n",
              "          '<a target=\"_blank\" href=https://colab.research.google.com/notebooks/data_table.ipynb>data table notebook</a>'\n",
              "          + ' to learn more about interactive tables.';\n",
              "        element.innerHTML = '';\n",
              "        dataTable['output_type'] = 'display_data';\n",
              "        await google.colab.output.renderOutput(dataTable, element);\n",
              "        const docLink = document.createElement('div');\n",
              "        docLink.innerHTML = docLinkHtml;\n",
              "        element.appendChild(docLink);\n",
              "      }\n",
              "    </script>\n",
              "  </div>\n",
              "\n",
              "\n",
              "    <div id=\"df-7eedb8e1-ef59-4cb9-b506-06e0d181aa5a\">\n",
              "      <button class=\"colab-df-quickchart\" onclick=\"quickchart('df-7eedb8e1-ef59-4cb9-b506-06e0d181aa5a')\"\n",
              "                title=\"Suggest charts\"\n",
              "                style=\"display:none;\">\n",
              "\n",
              "<svg xmlns=\"http://www.w3.org/2000/svg\" height=\"24px\"viewBox=\"0 0 24 24\"\n",
              "     width=\"24px\">\n",
              "    <g>\n",
              "        <path d=\"M19 3H5c-1.1 0-2 .9-2 2v14c0 1.1.9 2 2 2h14c1.1 0 2-.9 2-2V5c0-1.1-.9-2-2-2zM9 17H7v-7h2v7zm4 0h-2V7h2v10zm4 0h-2v-4h2v4z\"/>\n",
              "    </g>\n",
              "</svg>\n",
              "      </button>\n",
              "\n",
              "<style>\n",
              "  .colab-df-quickchart {\n",
              "      --bg-color: #E8F0FE;\n",
              "      --fill-color: #1967D2;\n",
              "      --hover-bg-color: #E2EBFA;\n",
              "      --hover-fill-color: #174EA6;\n",
              "      --disabled-fill-color: #AAA;\n",
              "      --disabled-bg-color: #DDD;\n",
              "  }\n",
              "\n",
              "  [theme=dark] .colab-df-quickchart {\n",
              "      --bg-color: #3B4455;\n",
              "      --fill-color: #D2E3FC;\n",
              "      --hover-bg-color: #434B5C;\n",
              "      --hover-fill-color: #FFFFFF;\n",
              "      --disabled-bg-color: #3B4455;\n",
              "      --disabled-fill-color: #666;\n",
              "  }\n",
              "\n",
              "  .colab-df-quickchart {\n",
              "    background-color: var(--bg-color);\n",
              "    border: none;\n",
              "    border-radius: 50%;\n",
              "    cursor: pointer;\n",
              "    display: none;\n",
              "    fill: var(--fill-color);\n",
              "    height: 32px;\n",
              "    padding: 0;\n",
              "    width: 32px;\n",
              "  }\n",
              "\n",
              "  .colab-df-quickchart:hover {\n",
              "    background-color: var(--hover-bg-color);\n",
              "    box-shadow: 0 1px 2px rgba(60, 64, 67, 0.3), 0 1px 3px 1px rgba(60, 64, 67, 0.15);\n",
              "    fill: var(--button-hover-fill-color);\n",
              "  }\n",
              "\n",
              "  .colab-df-quickchart-complete:disabled,\n",
              "  .colab-df-quickchart-complete:disabled:hover {\n",
              "    background-color: var(--disabled-bg-color);\n",
              "    fill: var(--disabled-fill-color);\n",
              "    box-shadow: none;\n",
              "  }\n",
              "\n",
              "  .colab-df-spinner {\n",
              "    border: 2px solid var(--fill-color);\n",
              "    border-color: transparent;\n",
              "    border-bottom-color: var(--fill-color);\n",
              "    animation:\n",
              "      spin 1s steps(1) infinite;\n",
              "  }\n",
              "\n",
              "  @keyframes spin {\n",
              "    0% {\n",
              "      border-color: transparent;\n",
              "      border-bottom-color: var(--fill-color);\n",
              "      border-left-color: var(--fill-color);\n",
              "    }\n",
              "    20% {\n",
              "      border-color: transparent;\n",
              "      border-left-color: var(--fill-color);\n",
              "      border-top-color: var(--fill-color);\n",
              "    }\n",
              "    30% {\n",
              "      border-color: transparent;\n",
              "      border-left-color: var(--fill-color);\n",
              "      border-top-color: var(--fill-color);\n",
              "      border-right-color: var(--fill-color);\n",
              "    }\n",
              "    40% {\n",
              "      border-color: transparent;\n",
              "      border-right-color: var(--fill-color);\n",
              "      border-top-color: var(--fill-color);\n",
              "    }\n",
              "    60% {\n",
              "      border-color: transparent;\n",
              "      border-right-color: var(--fill-color);\n",
              "    }\n",
              "    80% {\n",
              "      border-color: transparent;\n",
              "      border-right-color: var(--fill-color);\n",
              "      border-bottom-color: var(--fill-color);\n",
              "    }\n",
              "    90% {\n",
              "      border-color: transparent;\n",
              "      border-bottom-color: var(--fill-color);\n",
              "    }\n",
              "  }\n",
              "</style>\n",
              "\n",
              "      <script>\n",
              "        async function quickchart(key) {\n",
              "          const quickchartButtonEl =\n",
              "            document.querySelector('#' + key + ' button');\n",
              "          quickchartButtonEl.disabled = true;  // To prevent multiple clicks.\n",
              "          quickchartButtonEl.classList.add('colab-df-spinner');\n",
              "          try {\n",
              "            const charts = await google.colab.kernel.invokeFunction(\n",
              "                'suggestCharts', [key], {});\n",
              "          } catch (error) {\n",
              "            console.error('Error during call to suggestCharts:', error);\n",
              "          }\n",
              "          quickchartButtonEl.classList.remove('colab-df-spinner');\n",
              "          quickchartButtonEl.classList.add('colab-df-quickchart-complete');\n",
              "        }\n",
              "        (() => {\n",
              "          let quickchartButtonEl =\n",
              "            document.querySelector('#df-7eedb8e1-ef59-4cb9-b506-06e0d181aa5a button');\n",
              "          quickchartButtonEl.style.display =\n",
              "            google.colab.kernel.accessAllowed ? 'block' : 'none';\n",
              "        })();\n",
              "      </script>\n",
              "    </div>\n",
              "\n",
              "    </div>\n",
              "  </div>\n"
            ],
            "application/vnd.google.colaboratory.intrinsic+json": {
              "type": "dataframe",
              "variable_name": "df",
              "summary": "{\n  \"name\": \"df\",\n  \"rows\": 24207,\n  \"fields\": [\n    {\n      \"column\": \"Category\",\n      \"properties\": {\n        \"dtype\": \"category\",\n        \"num_unique_values\": 5,\n        \"samples\": [\n          \"\\u062c\\u0631\\u0627\\u062d\\u0629 \\u0639\\u0627\\u0645\\u0629\",\n          \"\\u062c\\u0631\\u0627\\u062d\\u0629 \\u0627\\u0644\\u0639\\u0638\\u0627\\u0645\",\n          \"\\u0627\\u0644\\u063a\\u062f\\u062f \\u0627\\u0644\\u0635\\u0645\\u0627\\u0621\"\n        ],\n        \"semantic_type\": \"\",\n        \"description\": \"\"\n      }\n    },\n    {\n      \"column\": \"Question\",\n      \"properties\": {\n        \"dtype\": \"string\",\n        \"num_unique_values\": 24194,\n        \"samples\": [\n          \"\\u0627\\u0644\\u0633\\u0643\\u0631 \\u0628\\u0639\\u062f \\u0635\\u064a\\u0627\\u0645 \\u0628\\u062d\\u062f\\u0648\\u062f 8\\u0633\\u0627\\u0639\\u0627\\u062a \\u0635\\u0628\\u0627\\u062d\\u0627 \\u064a\\u0643\\u0648\\u0646 \\u0628\\u064a\\u0646 95_115 \\u0648\\u0628\\u0639\\u062f \\u0627\\u0644\\u0641\\u0637\\u0648\\u0631 \\u0644\\u0627\\u064a\\u062a\\u062c\\u0627\\u0648\\u0632 \\u0627\\u0644139 \\u0647\\u0644 \\u0627\\u0646\\u0627 \\u0645\\u0635\\u0627\\u0628 \\u0628\\u0627\\u0644\\u0633\\u0643\\u0631\\u064a\",\n          \"\\u062a\\u0632\\u0648\\u062c\\u062a \\u0645\\u0646 10 \\u0634\\u0647\\u0648\\u0631 \\u0644\\u0627\\u062d\\u0638\\u062a \\u0639\\u0646\\u062f\\u064a \\u0636\\u0639\\u0641 \\u0627\\u0646\\u062a\\u0635\\u0627\\u0628 \\u0631\\u0627\\u062c\\u0639\\u062a \\u062f\\u0643\\u062a\\u0648\\u0631 \\u0645\\u0633\\u0627\\u0644\\u0643 \\u0628\\u0648\\u0644\\u064a\\u0629 \\u0648\\u0637\\u0644\\u0639 \\u0639\\u0646\\u062f\\u064a \\u0627\\u0631\\u062a\\u0641\\u0627\\u0639 \\u0647\\u0631\\u0645\\u0648\\u0646 \\u0627\\u0644\\u062d\\u0644\\u064a\\u0628 450 \\u0648\\u0627\\u0646\\u062e\\u0641\\u0627\\u0636 \\u0647\\u0631\\u0645\\u0648\\u0646 \\u0627\\u0644\\u0630\\u0643\\u0648\\u0631\\u0629 \\u0631\\u062d\\u062a \\u0639\\u0644\\u0649 \\u0623\\u062e\\u0635\\u0627\\u0626\\u064a \\u063a\\u062f\\u062f \\u0635\\u0645\\u0627\\u0621 \\u0648\\u0637\\u0644\\u0639 \\u0639\\u0646\\u062f\\u064a \\u0648\\u0631\\u0645 \\u0641\\u064a...\",\n          \"\\u0639\\u0645\\u0631\\u064a 17 \\u0648 \\u0637\\u0648\\u0644\\u064a 170 \\u0627\\u0631\\u064a\\u062f \\u0627\\u0646 \\u0627\\u0637\\u0648\\u0644 10 \\u0633\\u0645 \\u0639\\u0644\\u0649 \\u0627\\u0644\\u0627\\u0642\\u0644 \\u0645\\u0627\\u0630\\u0627 \\u0627\\u0641\\u0639\\u0644\\r\\n\\u0627\\u0631\\u062c\\u0648 \\u0627\\u0644\\u0645\\u0633\\u0627\\u0639\\u062f\\u0629\"\n        ],\n        \"semantic_type\": \"\",\n        \"description\": \"\"\n      }\n    },\n    {\n      \"column\": \"Answer\",\n      \"properties\": {\n        \"dtype\": \"string\",\n        \"num_unique_values\": 23420,\n        \"samples\": [\n          \"\\u0625\\u0641\\u0631\\u0627\\u0637 \\u0641\\u064a \\u0646\\u0634\\u0627\\u0637 \\u0627\\u0644\\u063a\\u062f\\u0629 \\u0627\\u0644\\u062f\\u0631\\u0642\\u064a\\u0629 \\u064a\\u062c\\u0628 \\u0627\\u0644\\u0630\\u0647\\u0627\\u0628 \\u0627\\u0644\\u0649 \\u0637\\u0628\\u064a\\u0628 \\u063a\\u062f\\u062f \\u0644\\u0639\\u0645\\u0644 \\u0623\\u0634\\u0639\\u0629 \\u0627\\u0644\\u063a\\u062f\\u0629 \\u0627\\u0644\\u062f\\u0631\\u0642\\u064a\\u0629 \\u0648 \\u062a\\u062d\\u0627\\u0644\\u064a\\u0644 \\u0623\\u062e\\u0631\\u0649 \\u062b\\u0645 \\u0628\\u062f\\u0627\\u064a\\u0629 \\u0627\\u0644\\u062f\\u0648\\u0627\\u0621 \\u0625\\u0630\\u0627 \\u062a\\u0623\\u0643\\u062f \\u0627\\u0644\\u062a\\u0634\\u062e\\u064a\\u0635\",\n          \"\\u0627\\u0646\\u0627 \\u0623\\u0646\\u0635\\u062d \\u0628\\u0627\\u0644\\u062c\\u0631\\u0627\\u062d\\u0629 \\u0641\\u064a \\u0645\\u062b\\u0644 \\u062d\\u0627\\u0644\\u062a\\u0643 \\u0648\\u0639\\u0645\\u0631\\u0643\",\n          \"\\u0645\\u0645\\u0643\\u0646 \\u062a\\u0639\\u0627\\u0646\\u064a \\u0645\\u0646 \\u0633\\u0648\\u0621 \\u0647\\u0636\\u0645 \\u0627\\u0648 \\u0639\\u062f\\u0645 \\u062a\\u062d\\u0645\\u0644 \\u0627\\u0644\\u063a\\u0630\\u0627\\u0621 \\u0648\\u0645\\u0645\\u0643\\u0646 \\u0628\\u0644\\u0639 \\u0647\\u0648\\u0627\\u0621 \\u0639\\u0646 \\u0637\\u0631\\u064a\\u0642 \\u0627\\u0644\\u0643\\u0644\\u0627\\u0645 \\u0627\\u062b\\u0646\\u0627\\u0621 \\u0627\\u0644\\u0645\\u0636\\u063a\\n\\u0627\\u0648 \\u0639\\u062f\\u0645 \\u0627\\u0644\\u0645\\u0636\\u063a \\u0627\\u0644\\u062c\\u064a\\u062f\\u0644\\u0644\\u0637\\u0639\\u0627\\u0645\\n\\u0646\\u0642\\u0635 \\u0628\\u0643\\u062a\\u0631\\u064a\\u0627 \\u0627\\u0644\\u0646\\u0627\\u0641\\u0639\\u0647 \\u0628\\u0633\\u0628\\u0628 \\u0645\\u0636\\u0627\\u062f \\u062d\\u064a\\u0648\\u064a\"\n        ],\n        \"semantic_type\": \"\",\n        \"description\": \"\"\n      }\n    }\n  ]\n}"
            }
          },
          "metadata": {},
          "execution_count": 53
        }
      ]
    },
    {
      "cell_type": "code",
      "source": [
        "from sklearn.model_selection import train_test_split\n",
        "train_df, test_df = train_test_split(df, test_size=0.2, random_state=42, shuffle=True)\n",
        "\n",
        "test_df.to_csv(\"medical_test.csv\", index=False, encoding=\"utf-8\")\n",
        "\n",
        "print(\"✅ Data split done: 'train.csv' (80%) and 'test.csv' (20%) saved.\")"
      ],
      "metadata": {
        "colab": {
          "base_uri": "https://localhost:8080/"
        },
        "id": "N3kWAyrVjomd",
        "outputId": "1037a580-caa4-4b04-fda2-dc20193b0a73"
      },
      "execution_count": null,
      "outputs": [
        {
          "output_type": "stream",
          "name": "stdout",
          "text": [
            "✅ Data split done: 'train.csv' (80%) and 'test.csv' (20%) saved.\n"
          ]
        }
      ]
    },
    {
      "cell_type": "code",
      "source": [
        "df=train_df"
      ],
      "metadata": {
        "id": "1xV6GAU9k4BJ"
      },
      "execution_count": null,
      "outputs": []
    },
    {
      "cell_type": "code",
      "source": [
        "df.shape"
      ],
      "metadata": {
        "colab": {
          "base_uri": "https://localhost:8080/"
        },
        "id": "G11zm5z_k9S6",
        "outputId": "a5684b28-c8ac-4839-cd2f-d07836a6e4f3"
      },
      "execution_count": null,
      "outputs": [
        {
          "output_type": "execute_result",
          "data": {
            "text/plain": [
              "(19365, 3)"
            ]
          },
          "metadata": {},
          "execution_count": 56
        }
      ]
    },
    {
      "cell_type": "code",
      "source": [
        "category_counts = df['Category'].value_counts()\n",
        "\n",
        "print(category_counts)"
      ],
      "metadata": {
        "colab": {
          "base_uri": "https://localhost:8080/"
        },
        "id": "_FwBO_QGlAgX",
        "outputId": "3b1d8755-f132-4d90-8332-8ba7b45f20e1"
      },
      "execution_count": null,
      "outputs": [
        {
          "output_type": "stream",
          "name": "stdout",
          "text": [
            "Category\n",
            "مرض السكري              4036\n",
            "أمراض الجهاز التنفسي    3997\n",
            "جراحة عامة              3983\n",
            "الغدد الصماء            3952\n",
            "جراحة العظام            3397\n",
            "Name: count, dtype: int64\n"
          ]
        }
      ]
    },
    {
      "cell_type": "code",
      "source": [
        "# Check nulls and datatypes\n",
        "nulls_info = pd.DataFrame({\n",
        "    \"Null_Count\": df.isnull().sum(),\n",
        "    \"DataType\": df.dtypes\n",
        "})\n",
        "\n",
        "print(nulls_info)\n"
      ],
      "metadata": {
        "colab": {
          "base_uri": "https://localhost:8080/"
        },
        "id": "pRYQknVJn38K",
        "outputId": "3f05f428-2881-4565-b60a-b18e06c4d9ca"
      },
      "execution_count": null,
      "outputs": [
        {
          "output_type": "stream",
          "name": "stdout",
          "text": [
            "          Null_Count DataType\n",
            "Category           0   object\n",
            "Question           0   object\n",
            "Answer             0   object\n"
          ]
        }
      ]
    },
    {
      "cell_type": "code",
      "source": [
        "duplicates_count = df.duplicated().sum()\n",
        "print(\"Total duplicate rows:\", duplicates_count)"
      ],
      "metadata": {
        "colab": {
          "base_uri": "https://localhost:8080/"
        },
        "id": "333QtIqVn34u",
        "outputId": "880fecf8-11f5-4f87-b818-045729d373e5"
      },
      "execution_count": null,
      "outputs": [
        {
          "output_type": "stream",
          "name": "stdout",
          "text": [
            "Total duplicate rows: 0\n"
          ]
        }
      ]
    },
    {
      "cell_type": "code",
      "source": [
        "# df = df.drop_duplicates()"
      ],
      "metadata": {
        "id": "lutGzXgm0zYI"
      },
      "execution_count": null,
      "outputs": []
    },
    {
      "cell_type": "code",
      "source": [
        "# duplicates_count = df.duplicated().sum()\n",
        "# print(\"Total duplicate rows:\", duplicates_count)"
      ],
      "metadata": {
        "id": "9z0R--Trn3zG"
      },
      "execution_count": null,
      "outputs": []
    },
    {
      "cell_type": "code",
      "source": [
        "df = df.drop(columns=[\"Answer\"])"
      ],
      "metadata": {
        "id": "szwnjoxIn3w6"
      },
      "execution_count": null,
      "outputs": []
    },
    {
      "cell_type": "code",
      "source": [
        "df.columns"
      ],
      "metadata": {
        "colab": {
          "base_uri": "https://localhost:8080/"
        },
        "id": "XnVVrO7o1Gw2",
        "outputId": "6060d11b-d9f5-4bee-9e45-8f602f75e8c1"
      },
      "execution_count": null,
      "outputs": [
        {
          "output_type": "execute_result",
          "data": {
            "text/plain": [
              "Index(['Category', 'Question'], dtype='object')"
            ]
          },
          "metadata": {},
          "execution_count": 63
        }
      ]
    },
    {
      "cell_type": "code",
      "source": [
        "df.shape"
      ],
      "metadata": {
        "colab": {
          "base_uri": "https://localhost:8080/"
        },
        "id": "xSVQpPw21RYL",
        "outputId": "5e07dbc1-016c-4fa6-f48d-8000f12bb713"
      },
      "execution_count": null,
      "outputs": [
        {
          "output_type": "execute_result",
          "data": {
            "text/plain": [
              "(19365, 2)"
            ]
          },
          "metadata": {},
          "execution_count": 64
        }
      ]
    },
    {
      "cell_type": "code",
      "source": [
        "\n",
        "import re\n",
        "\n",
        "def extract_non_arabic(text):\n",
        "    \"\"\"\n",
        "    Extract all characters that are NOT Arabic letters.\n",
        "    \"\"\"\n",
        "    if not isinstance(text, str):\n",
        "        return \"\"\n",
        "    return ''.join(re.findall(r'[^\\u0600-\\u06FF]', text))\n",
        "\n",
        "all_text = ''.join(df['Question'].astype(str).tolist())\n",
        "non_arabic_chars = set(extract_non_arabic(all_text))\n",
        "\n",
        "print(non_arabic_chars)\n",
        "print(f\"\\nTotal unique non-Arabic characters found: {len(non_arabic_chars)}\")\n"
      ],
      "metadata": {
        "colab": {
          "base_uri": "https://localhost:8080/"
        },
        "id": "rR5Y5mVA1TO7",
        "outputId": "b37dd949-85ff-4854-d38f-4e8beb1f29d3"
      },
      "execution_count": null,
      "outputs": [
        {
          "output_type": "stream",
          "name": "stdout",
          "text": [
            "{' ', '²', '«', 'ﻤ', 'ﻝ', '≥', 'ﻋ', 'E', 'ﺧ', '\"', 'd', 'a', 'ﻱ', 'ﺩ', 'o', '>', 'N', 'ﺝ', 'R', '<', 'ﺻ', 'ﻓ', '–', '…', 'D', 'ﻘ', 'ﻔ', 'ﻖ', 'ﺐ', 'ﻭ', '-', 'g', 'ﻀ', 'ﻌ', 'ﻂ', 'h', 'ﺖ', '#', '°', 'ﺎ', 'Z', 't', 'f', 'ﺃ', 'ﻨ', '•', 'C', '{', 'c', 'ﻡ', 'ﻷ', 'ﻏ', 'ﻵ', 'ﯙ', 'ﻛ', '✨', 'ﻻ', 'O', 'ﻴ', '|', 'x', 'ﻇ', 'ﻬ', '÷', 'I', '[', '2', 'ﺫ', '&', 'w', '*', 'ﺓ', 'b', '\\u200f', 'ﺍ', '●', '.', 'T', 'ﺘ', 'ﺑ', '+', '3', 'v', 'A', '♡', 'q', '}', 'µ', 'r', '\\n', '\\t', 'ﻧ', '8', 'ﻙ', '@', 'ﺪ', 'ﺔ', 'G', 'ﻜ', '⬇', '̐', 'ﺟ', 'ﻢ', 'μ', '\\u200b', 'ﺳ', 'ﺮ', 'S', ':', 'è', ')', 'ﺽ', 'ﻳ', 'V', '\\r', '7', 'ﺬ', 'ﺭ', 'ﻫ', 'i', 'm', 'ﻥ', 'ﺒ', 'j', 'ﻲ', '~', 'K', '\\\\', 'ﺼ', 'L', 'à', 'J', 'ﻗ', 'ﻹ', 'ﻣ', 'ﺸ', 'ﺿ', '⬆', '❤', 'ﻟ', 'Q', '1', '￼', 'ﺜ', '0', '^', 'ﺺ', 'ų', '%', '/', 'ﺤ', '☺', 'e', 'ﺣ', 'p', 'M', 'ﻯ', 'ﺠ', '4', 'ﻦ', 'ﻠ', 'ﺄ', '️', 'U', ',', 'P', 'Y', '_', '9', 'ﻞ', 'ﺷ', '\\u200d', 'l', '\\u200e', 'ﻼ', 'u', 'z', 'ï', '\\xa0', '》', '(', 'B', 'ﺕ', 's', '5', 'ﺋ', 'ﻊ', 'W', 'ﻃ', 'y', '，', 'ﻎ', 'H', 'ﻪ', ';', 'ﺗ', 'ﺀ', 'é', 'ﻰ', '̷', '❗', '=', 'ﺴ', 'ﻩ', \"'\", 'k', 'ﻮ', 'n', 'ﺉ', '!', '6', '×', 'X', ']', '?', 'F', '̨', 'ﺲ', 'ﺹ'}\n",
            "\n",
            "Total unique non-Arabic characters found: 219\n"
          ]
        }
      ]
    },
    {
      "cell_type": "code",
      "source": [
        "import unicodedata\n",
        "\n",
        "df['Question'] = df['Question'].apply(lambda text: unicodedata.normalize('NFKC', text))\n"
      ],
      "metadata": {
        "id": "Pg5lDgMtBinm"
      },
      "execution_count": null,
      "outputs": []
    },
    {
      "cell_type": "code",
      "source": [
        "all_text = ''.join(df['Question'].astype(str).tolist())\n",
        "non_arabic_chars = set(extract_non_arabic(all_text))\n",
        "\n",
        "print(non_arabic_chars)\n",
        "print(f\"\\nTotal unique non-Arabic characters found: {len(non_arabic_chars)}\")\n"
      ],
      "metadata": {
        "colab": {
          "base_uri": "https://localhost:8080/"
        },
        "id": "McZYPnwGBidO",
        "outputId": "1d55e891-b7fd-43f3-feb3-7dd3747a38c2"
      },
      "execution_count": null,
      "outputs": [
        {
          "output_type": "stream",
          "name": "stdout",
          "text": [
            "{' ', '«', '≥', 'E', '\"', 'd', 'a', 'o', '>', 'N', 'R', '<', '–', 'D', '-', 'g', 'h', '#', '°', 'Z', 't', 'f', '•', 'C', '{', 'c', '✨', 'O', '|', 'x', '÷', 'I', '[', '2', '&', 'w', '*', 'b', '\\u200f', '●', '.', 'T', '+', '3', 'v', 'A', '♡', 'q', '}', 'r', '\\n', '\\t', '8', '@', 'G', '⬇', '̐', 'μ', '\\u200b', 'S', ':', 'è', ')', 'V', '\\r', '7', 'i', 'm', 'j', '~', 'K', '\\\\', 'L', 'à', 'J', '⬆', '❤', 'Q', '1', '￼', '0', '^', 'ų', '%', '/', '☺', 'e', 'p', 'M', '4', '️', 'U', ',', 'P', 'Y', '_', '9', '\\u200d', 'l', '\\u200e', 'u', 'z', 'ï', '》', '(', 'B', 's', '5', 'W', 'y', 'H', ';', 'é', '̷', '❗', '=', \"'\", 'k', 'n', '!', '6', '×', 'X', ']', '?', 'F', '̨'}\n",
            "\n",
            "Total unique non-Arabic characters found: 127\n"
          ]
        }
      ]
    },
    {
      "cell_type": "code",
      "source": [
        "# pip install camel-tools\n"
      ],
      "metadata": {
        "id": "yxuBrIgu5TRv"
      },
      "execution_count": null,
      "outputs": []
    },
    {
      "cell_type": "code",
      "source": [
        "from camel_tools.utils.normalize import normalize_alef_maksura_ar, normalize_alef_ar, normalize_teh_marbuta_ar\n",
        "from camel_tools.utils.dediac import dediac_ar\n",
        "import re\n",
        "\n",
        "def camel_clean(text):\n",
        "    text = dediac_ar(str(text))\n",
        "    text = normalize_alef_ar(text)\n",
        "    text = normalize_alef_maksura_ar(text)\n",
        "    text = normalize_teh_marbuta_ar(text)\n",
        "    en2ar = str.maketrans('0123456789', '٠١٢٣٤٥٦٧٨٩')\n",
        "    text = text.translate(en2ar)\n",
        "    text = re.sub(r'[^\\u0600-\\u06FF\\s.,;:!?()\\'\"-]', '', text)\n",
        "    text = re.sub(r'\\s+', ' ', text)\n",
        "    return text.strip().lower()\n",
        "\n",
        "df['Question'] = df['Question'].apply(camel_clean)\n"
      ],
      "metadata": {
        "id": "9PChNr3D1dHB"
      },
      "execution_count": null,
      "outputs": []
    },
    {
      "cell_type": "code",
      "source": [
        "all_text = ''.join(df['Question'].astype(str).tolist())\n",
        "non_arabic_chars = set(extract_non_arabic(all_text))\n",
        "\n",
        "print(non_arabic_chars)\n",
        "print(f\"\\nTotal unique non-Arabic characters found: {len(non_arabic_chars)}\")"
      ],
      "metadata": {
        "colab": {
          "base_uri": "https://localhost:8080/"
        },
        "id": "yJJw45jv3jQL",
        "outputId": "4d499665-c48c-442b-cb95-c3a08a83d481"
      },
      "execution_count": null,
      "outputs": [
        {
          "output_type": "stream",
          "name": "stdout",
          "text": [
            "{'(', ';', ' ', '!', ':', ')', '\"', '?', \"'\", '.', '-', ','}\n",
            "\n",
            "Total unique non-Arabic characters found: 12\n"
          ]
        }
      ]
    },
    {
      "cell_type": "code",
      "source": [
        "from transformers import AutoTokenizer\n",
        "import pandas as pd\n",
        "import numpy as np\n",
        "\n",
        "# موديل MARBERT\n",
        "model_name = \"UBC-NLP/MARBERT\"\n",
        "tokenizer = AutoTokenizer.from_pretrained(model_name)\n",
        "\n",
        "def add_token_lengths(df, text_column='Question'):\n",
        "    sentence_lens = []\n",
        "    word_lens = []\n",
        "\n",
        "    for text in df[text_column]:\n",
        "        if not isinstance(text, str):\n",
        "            sentence_lens.append(0)\n",
        "            continue\n",
        "\n",
        "        tokens = tokenizer.tokenize(text)\n",
        "        sentence_lens.append(len(tokens))\n",
        "\n",
        "        words = text.split()\n",
        "        word_lens.extend([len(tokenizer.tokenize(w)) for w in words if w.strip() != ''])\n",
        "\n",
        "    df[text_column + '_token_len'] = sentence_lens\n",
        "\n",
        "    analysis = {\n",
        "        \"sentence_max_len\": max(sentence_lens),\n",
        "        \"sentence_min_len\": min(sentence_lens),\n",
        "        \"sentence_50_percentile\": np.percentile(sentence_lens, 50),\n",
        "        \"sentence_75_percentile\": np.percentile(sentence_lens, 75),\n",
        "        \"word_max_len\": max(word_lens),\n",
        "        \"word_min_len\": min(word_lens),\n",
        "        \"word_50_percentile\": np.percentile(word_lens, 50),\n",
        "        \"word_75_percentile\": np.percentile(word_lens, 75),\n",
        "    }\n",
        "\n",
        "    return df, analysis\n",
        "\n",
        "df, stats = add_token_lengths(df, 'Question')\n",
        "print(stats)\n"
      ],
      "metadata": {
        "colab": {
          "base_uri": "https://localhost:8080/"
        },
        "id": "Ite7pJK5QMIl",
        "outputId": "dd34112a-848b-4a85-d40f-886565395a29"
      },
      "execution_count": null,
      "outputs": [
        {
          "output_type": "stream",
          "name": "stdout",
          "text": [
            "{'sentence_max_len': 78, 'sentence_min_len': 2, 'sentence_50_percentile': 31.0, 'sentence_75_percentile': 37.0, 'word_max_len': 76, 'word_min_len': 1, 'word_50_percentile': 1.0, 'word_75_percentile': 1.0}\n"
          ]
        }
      ]
    },
    {
      "cell_type": "code",
      "source": [
        "max_len = 45\n",
        "\n",
        "num_sentences_under_max = sum(\n",
        "    len(tokenizer.tokenize(q)) <= max_len for q in df['Question'] if isinstance(q, str)\n",
        ")\n",
        "percent_under_max = num_sentences_under_max / len(df) * 100\n",
        "\n",
        "print(f\"Percentage of sentences <= {max_len} tokens: {percent_under_max:.2f}%\")"
      ],
      "metadata": {
        "colab": {
          "base_uri": "https://localhost:8080/"
        },
        "id": "BWudZ1m1Rc49",
        "outputId": "d8223754-90b6-4f72-f82c-927dff2c10ca"
      },
      "execution_count": null,
      "outputs": [
        {
          "output_type": "stream",
          "name": "stdout",
          "text": [
            "Percentage of sentences <= 45 tokens: 97.89%\n"
          ]
        }
      ]
    },
    {
      "cell_type": "code",
      "source": [
        "df.shape"
      ],
      "metadata": {
        "colab": {
          "base_uri": "https://localhost:8080/"
        },
        "id": "oHOfHmwMRfRq",
        "outputId": "17cc2659-fa92-4d0f-9673-1e9f62e7b9e7"
      },
      "execution_count": null,
      "outputs": [
        {
          "output_type": "execute_result",
          "data": {
            "text/plain": [
              "(19365, 3)"
            ]
          },
          "metadata": {},
          "execution_count": 73
        }
      ]
    },
    {
      "cell_type": "code",
      "source": [
        "from sklearn.preprocessing import LabelEncoder\n",
        "\n",
        "label_encoder = LabelEncoder()\n",
        "df['Label'] = label_encoder.fit_transform(df['Category'])\n",
        "\n",
        "\n",
        "NUM_LABELS = df['Label'].nunique()\n",
        "print(\"Labels:\", label_encoder.classes_)\n",
        "print(\"Number of classes:\", NUM_LABELS)\n"
      ],
      "metadata": {
        "id": "tgQFs9yXUjsP",
        "outputId": "1a5b1f19-f309-45cf-ceb6-3df6e7a55f14",
        "colab": {
          "base_uri": "https://localhost:8080/"
        }
      },
      "execution_count": null,
      "outputs": [
        {
          "output_type": "stream",
          "name": "stdout",
          "text": [
            "Labels: ['أمراض الجهاز التنفسي' 'الغدد الصماء' 'جراحة العظام' 'جراحة عامة'\n",
            " 'مرض السكري']\n",
            "Number of classes: 5\n"
          ]
        }
      ]
    },
    {
      "cell_type": "code",
      "source": [
        "df[\"Label\"]"
      ],
      "metadata": {
        "id": "KlGip9_mV1yd",
        "outputId": "1a600e15-f99a-4011-c04b-efe6d672ca0e",
        "colab": {
          "base_uri": "https://localhost:8080/",
          "height": 458
        }
      },
      "execution_count": null,
      "outputs": [
        {
          "output_type": "execute_result",
          "data": {
            "text/plain": [
              "18177    0\n",
              "9213     3\n",
              "18727    4\n",
              "10500    0\n",
              "6379     0\n",
              "        ..\n",
              "21575    4\n",
              "5390     3\n",
              "860      2\n",
              "15795    1\n",
              "23654    3\n",
              "Name: Label, Length: 19365, dtype: int64"
            ],
            "text/html": [
              "<div>\n",
              "<style scoped>\n",
              "    .dataframe tbody tr th:only-of-type {\n",
              "        vertical-align: middle;\n",
              "    }\n",
              "\n",
              "    .dataframe tbody tr th {\n",
              "        vertical-align: top;\n",
              "    }\n",
              "\n",
              "    .dataframe thead th {\n",
              "        text-align: right;\n",
              "    }\n",
              "</style>\n",
              "<table border=\"1\" class=\"dataframe\">\n",
              "  <thead>\n",
              "    <tr style=\"text-align: right;\">\n",
              "      <th></th>\n",
              "      <th>Label</th>\n",
              "    </tr>\n",
              "  </thead>\n",
              "  <tbody>\n",
              "    <tr>\n",
              "      <th>18177</th>\n",
              "      <td>0</td>\n",
              "    </tr>\n",
              "    <tr>\n",
              "      <th>9213</th>\n",
              "      <td>3</td>\n",
              "    </tr>\n",
              "    <tr>\n",
              "      <th>18727</th>\n",
              "      <td>4</td>\n",
              "    </tr>\n",
              "    <tr>\n",
              "      <th>10500</th>\n",
              "      <td>0</td>\n",
              "    </tr>\n",
              "    <tr>\n",
              "      <th>6379</th>\n",
              "      <td>0</td>\n",
              "    </tr>\n",
              "    <tr>\n",
              "      <th>...</th>\n",
              "      <td>...</td>\n",
              "    </tr>\n",
              "    <tr>\n",
              "      <th>21575</th>\n",
              "      <td>4</td>\n",
              "    </tr>\n",
              "    <tr>\n",
              "      <th>5390</th>\n",
              "      <td>3</td>\n",
              "    </tr>\n",
              "    <tr>\n",
              "      <th>860</th>\n",
              "      <td>2</td>\n",
              "    </tr>\n",
              "    <tr>\n",
              "      <th>15795</th>\n",
              "      <td>1</td>\n",
              "    </tr>\n",
              "    <tr>\n",
              "      <th>23654</th>\n",
              "      <td>3</td>\n",
              "    </tr>\n",
              "  </tbody>\n",
              "</table>\n",
              "<p>19365 rows × 1 columns</p>\n",
              "</div><br><label><b>dtype:</b> int64</label>"
            ]
          },
          "metadata": {},
          "execution_count": 75
        }
      ]
    },
    {
      "cell_type": "code",
      "source": [
        "# pred_labels = label_encoder.inverse_transform(predicted_ids)"
      ],
      "metadata": {
        "id": "SS-pWKf2UtdC"
      },
      "execution_count": null,
      "outputs": []
    },
    {
      "cell_type": "code",
      "source": [
        "df.columns"
      ],
      "metadata": {
        "colab": {
          "base_uri": "https://localhost:8080/"
        },
        "id": "lxc64nFiRiMe",
        "outputId": "2c004d69-8ff5-4221-f2c9-937c5b745770"
      },
      "execution_count": null,
      "outputs": [
        {
          "output_type": "execute_result",
          "data": {
            "text/plain": [
              "Index(['Category', 'Question', 'Question_token_len', 'Label'], dtype='object')"
            ]
          },
          "metadata": {},
          "execution_count": 77
        }
      ]
    },
    {
      "cell_type": "code",
      "source": [
        "df = df.rename(columns={'Label': 'labels'})"
      ],
      "metadata": {
        "id": "buZEb6LMbaCc"
      },
      "execution_count": null,
      "outputs": []
    },
    {
      "cell_type": "code",
      "source": [
        "df['labels'] = df['labels'].astype('int64')\n"
      ],
      "metadata": {
        "id": "6snGa78zbc6g"
      },
      "execution_count": null,
      "outputs": []
    },
    {
      "cell_type": "code",
      "source": [
        "# !pip install transformers datasets peft accelerate bitsandbytes\n"
      ],
      "metadata": {
        "id": "Htvir2qgRmlR"
      },
      "execution_count": null,
      "outputs": []
    },
    {
      "cell_type": "code",
      "source": [
        "# !pip install --upgrade transformers\n",
        "# !pip install --upgrade peft\n"
      ],
      "metadata": {
        "id": "UryAs2K6VFaJ"
      },
      "execution_count": null,
      "outputs": []
    },
    {
      "cell_type": "code",
      "source": [
        "# from transformers import AutoTokenizer, AutoModelForSequenceClassification, Trainer, TrainingArguments\n",
        "from datasets import Dataset\n",
        "from sklearn.model_selection import train_test_split\n",
        "from peft import LoraConfig, get_peft_model\n",
        "import pandas as pd\n"
      ],
      "metadata": {
        "id": "RmpSuQWRUGW9"
      },
      "execution_count": null,
      "outputs": []
    },
    {
      "cell_type": "code",
      "source": [
        "\n",
        "dataset = Dataset.from_pandas(df)\n",
        "\n",
        "split_datasets = dataset.train_test_split(test_size=0.15, seed=42)\n",
        "train_dataset = split_datasets['train']\n",
        "val_dataset = split_datasets['test']\n"
      ],
      "metadata": {
        "id": "OqmGKE9mU3Fn"
      },
      "execution_count": null,
      "outputs": []
    },
    {
      "cell_type": "code",
      "source": [
        "from transformers import AutoTokenizer\n",
        "\n",
        "model_name = \"UBC-NLP/MARBERT\"\n",
        "tokenizer = AutoTokenizer.from_pretrained(model_name)\n",
        "MAX_LEN = 45\n",
        "\n",
        "def tokenize_function(examples):\n",
        "    return tokenizer(\n",
        "        examples['Question'],\n",
        "        padding='max_length',\n",
        "        truncation=True,\n",
        "        max_length=MAX_LEN\n",
        "    )\n",
        "\n",
        "train_dataset = train_dataset.map(tokenize_function, batched=True)\n",
        "val_dataset = val_dataset.map(tokenize_function, batched=True)\n"
      ],
      "metadata": {
        "colab": {
          "base_uri": "https://localhost:8080/",
          "height": 81,
          "referenced_widgets": [
            "5d5349c6005a4e2594195eff3174241e",
            "6f4398326be6451f8e340eb6fd6e1021",
            "804afe3085f641d493c1fd52a28edf93",
            "aad74a58946e46e39b6855ae89aa2bb0",
            "45cd4b78d7e04b84a7bba9198c07fdf3",
            "23b3dfeb90e2477c94834e9db1148775",
            "37401ab33e53457fa4d589be8a69a517",
            "dd4a3e35f89e400aa8dff394f0410abf",
            "151279b8e6c242319002057ce79bc23f",
            "46f3ad50ec6e4f498a47f519d9845494",
            "414a17dbd1f84ce0b2cb6f0552ed4a7d",
            "96d66cd2dd984b51a85fcd7b29046561",
            "0980f796606c479c97726507c083eeee",
            "90d98ed2ae334a6d9c9b95bb910e2f33",
            "568cb869ecbb4a77b8e1e05755d23e1c",
            "2e4d7d1fbd4e4dfaa46fd4f8bdd501a0",
            "04028c745d2a47f493276fc7989805db",
            "e1c45ff1539047008bcf45ffc57baaf4",
            "0cf22b3c50fc4510b5847bf42cb772f7",
            "52e2b2b91d894db6aacff6c782286d35",
            "96460c1762f04acf9c027ca3ad578ff3",
            "2b96cf17d7d94038b80b98ae71b3a1ac"
          ]
        },
        "id": "kIlHTLDcTEkg",
        "outputId": "dc9d85c7-d854-4f58-b1f3-d6e5259af8aa"
      },
      "execution_count": null,
      "outputs": [
        {
          "output_type": "display_data",
          "data": {
            "text/plain": [
              "Map:   0%|          | 0/16460 [00:00<?, ? examples/s]"
            ],
            "application/vnd.jupyter.widget-view+json": {
              "version_major": 2,
              "version_minor": 0,
              "model_id": "5d5349c6005a4e2594195eff3174241e"
            }
          },
          "metadata": {}
        },
        {
          "output_type": "display_data",
          "data": {
            "text/plain": [
              "Map:   0%|          | 0/2905 [00:00<?, ? examples/s]"
            ],
            "application/vnd.jupyter.widget-view+json": {
              "version_major": 2,
              "version_minor": 0,
              "model_id": "96d66cd2dd984b51a85fcd7b29046561"
            }
          },
          "metadata": {}
        }
      ]
    },
    {
      "cell_type": "code",
      "source": [
        "from transformers import AutoModelForSequenceClassification\n",
        "from peft import LoraConfig, get_peft_model\n",
        "\n",
        "model = AutoModelForSequenceClassification.from_pretrained(model_name, num_labels=NUM_LABELS)\n",
        "\n",
        "# إعداد LoRA\n",
        "lora_config = LoraConfig(\n",
        "    r=8,\n",
        "    lora_alpha=16,\n",
        "    target_modules=[\"query\", \"value\"],  # حسب بنية MARBERT\n",
        "    lora_dropout=0.05,\n",
        "    bias=\"none\",\n",
        "    task_type=\"SEQ_CLS\"\n",
        ")\n",
        "\n",
        "\n",
        "model = get_peft_model(model, lora_config)\n"
      ],
      "metadata": {
        "id": "7-TDE-6kWUPp",
        "outputId": "e6105f96-24e8-4c2b-fb3b-a551a8bc7fd2",
        "colab": {
          "base_uri": "https://localhost:8080/"
        }
      },
      "execution_count": null,
      "outputs": [
        {
          "output_type": "stream",
          "name": "stderr",
          "text": [
            "Some weights of BertForSequenceClassification were not initialized from the model checkpoint at UBC-NLP/MARBERT and are newly initialized: ['classifier.bias', 'classifier.weight']\n",
            "You should probably TRAIN this model on a down-stream task to be able to use it for predictions and inference.\n"
          ]
        }
      ]
    },
    {
      "cell_type": "code",
      "source": [
        "from transformers import Trainer, TrainingArguments\n",
        "import numpy as np\n",
        "from sklearn.metrics import accuracy_score\n",
        "\n",
        "training_args = TrainingArguments(\n",
        "    output_dir=\"./marbert_finetuned\",\n",
        "    eval_strategy=\"epoch\",\n",
        "    save_strategy=\"epoch\",\n",
        "    learning_rate=2e-5,\n",
        "    per_device_train_batch_size=8,\n",
        "    per_device_eval_batch_size=8,\n",
        "    num_train_epochs=5,\n",
        "    weight_decay=0.01,\n",
        "    logging_steps=10,\n",
        "    report_to=\"none\",\n",
        "    load_best_model_at_end=True\n",
        ")\n",
        "\n",
        "def compute_metrics(eval_pred):\n",
        "    logits, labels = eval_pred\n",
        "    predictions = np.argmax(logits, axis=-1)\n",
        "    acc = accuracy_score(labels, predictions)\n",
        "    return {\"accuracy\": acc}\n",
        "\n",
        "trainer = Trainer(\n",
        "    model=model,\n",
        "    args=training_args,\n",
        "    train_dataset=train_dataset,\n",
        "    eval_dataset=val_dataset,\n",
        "    tokenizer=tokenizer,\n",
        "    compute_metrics=compute_metrics\n",
        ")\n"
      ],
      "metadata": {
        "id": "GtMfU0kOWqNo",
        "outputId": "cce59179-72a4-4e25-cbea-a2f41806ec12",
        "colab": {
          "base_uri": "https://localhost:8080/"
        }
      },
      "execution_count": null,
      "outputs": [
        {
          "output_type": "stream",
          "name": "stderr",
          "text": [
            "/tmp/ipython-input-3839494349.py:25: FutureWarning: `tokenizer` is deprecated and will be removed in version 5.0.0 for `Trainer.__init__`. Use `processing_class` instead.\n",
            "  trainer = Trainer(\n"
          ]
        }
      ]
    },
    {
      "cell_type": "code",
      "source": [
        "# # إعادة تسمية العمود\n",
        "# train_dataset = train_dataset.rename_column(\"Label\", \"labels\")\n",
        "# val_dataset = val_dataset.rename_column(\"Label\", \"labels\")\n",
        "\n",
        "# # ضبط format للـ PyTorch\n",
        "# train_dataset.set_format(type='torch', columns=['input_ids', 'attention_mask', 'labels'])\n",
        "# val_dataset.set_format(type='torch', columns=['input_ids', 'attention_mask', 'labels'])\n"
      ],
      "metadata": {
        "id": "ExuB0VTBaX0g"
      },
      "execution_count": null,
      "outputs": []
    },
    {
      "cell_type": "code",
      "source": [
        "print(train_dataset.column_names)\n",
        "print(val_dataset.column_names)\n"
      ],
      "metadata": {
        "id": "T-B_QO-oakMH",
        "outputId": "97af63b3-07b2-492c-85e4-2bdfb5519f1d",
        "colab": {
          "base_uri": "https://localhost:8080/"
        }
      },
      "execution_count": null,
      "outputs": [
        {
          "output_type": "stream",
          "name": "stdout",
          "text": [
            "['Category', 'Question', 'Question_token_len', 'labels', '__index_level_0__', 'input_ids', 'token_type_ids', 'attention_mask']\n",
            "['Category', 'Question', 'Question_token_len', 'labels', '__index_level_0__', 'input_ids', 'token_type_ids', 'attention_mask']\n"
          ]
        }
      ]
    },
    {
      "cell_type": "code",
      "source": [
        "columns_to_keep = ['input_ids', 'attention_mask', 'labels', 'token_type_ids']\n",
        "train_dataset = train_dataset.remove_columns([c for c in train_dataset.column_names if c not in columns_to_keep])\n",
        "val_dataset = val_dataset.remove_columns([c for c in val_dataset.column_names if c not in columns_to_keep])\n"
      ],
      "metadata": {
        "id": "CEwqLIDabpOF"
      },
      "execution_count": null,
      "outputs": []
    },
    {
      "cell_type": "code",
      "source": [
        "trainer.train()"
      ],
      "metadata": {
        "id": "wHIyVTOjXelp",
        "outputId": "0c5f6b70-5597-42d8-94f0-e784f3e3159b",
        "colab": {
          "base_uri": "https://localhost:8080/",
          "height": 267
        }
      },
      "execution_count": null,
      "outputs": [
        {
          "output_type": "display_data",
          "data": {
            "text/plain": [
              "<IPython.core.display.HTML object>"
            ],
            "text/html": [
              "\n",
              "    <div>\n",
              "      \n",
              "      <progress value='10290' max='10290' style='width:300px; height:20px; vertical-align: middle;'></progress>\n",
              "      [10290/10290 09:51, Epoch 5/5]\n",
              "    </div>\n",
              "    <table border=\"1\" class=\"dataframe\">\n",
              "  <thead>\n",
              " <tr style=\"text-align: left;\">\n",
              "      <th>Epoch</th>\n",
              "      <th>Training Loss</th>\n",
              "      <th>Validation Loss</th>\n",
              "      <th>Accuracy</th>\n",
              "    </tr>\n",
              "  </thead>\n",
              "  <tbody>\n",
              "    <tr>\n",
              "      <td>1</td>\n",
              "      <td>0.689900</td>\n",
              "      <td>0.612959</td>\n",
              "      <td>0.823064</td>\n",
              "    </tr>\n",
              "    <tr>\n",
              "      <td>2</td>\n",
              "      <td>0.567600</td>\n",
              "      <td>0.481051</td>\n",
              "      <td>0.854733</td>\n",
              "    </tr>\n",
              "    <tr>\n",
              "      <td>3</td>\n",
              "      <td>0.614800</td>\n",
              "      <td>0.444976</td>\n",
              "      <td>0.860241</td>\n",
              "    </tr>\n",
              "    <tr>\n",
              "      <td>4</td>\n",
              "      <td>0.360000</td>\n",
              "      <td>0.432191</td>\n",
              "      <td>0.861962</td>\n",
              "    </tr>\n",
              "    <tr>\n",
              "      <td>5</td>\n",
              "      <td>0.401000</td>\n",
              "      <td>0.429350</td>\n",
              "      <td>0.865060</td>\n",
              "    </tr>\n",
              "  </tbody>\n",
              "</table><p>"
            ]
          },
          "metadata": {}
        },
        {
          "output_type": "execute_result",
          "data": {
            "text/plain": [
              "TrainOutput(global_step=10290, training_loss=0.6046035401327617, metrics={'train_runtime': 591.5444, 'train_samples_per_second': 139.127, 'train_steps_per_second': 17.395, 'total_flos': 1909877039874000.0, 'train_loss': 0.6046035401327617, 'epoch': 5.0})"
            ]
          },
          "metadata": {},
          "execution_count": 90
        }
      ]
    },
    {
      "cell_type": "code",
      "source": [
        "from transformers import AutoTokenizer\n",
        "\n",
        "\n",
        "model.save_pretrained(\"./marbert_finetuned_lora\")\n",
        "\n",
        "tokenizer.save_pretrained(\"./marbert_finetuned_lora\")\n"
      ],
      "metadata": {
        "id": "b3UmNETwY4Xi",
        "colab": {
          "base_uri": "https://localhost:8080/"
        },
        "outputId": "4b6d4c0c-f9d8-48aa-ba3c-f5d770b3ac7f"
      },
      "execution_count": null,
      "outputs": [
        {
          "output_type": "execute_result",
          "data": {
            "text/plain": [
              "('./marbert_finetuned_lora/tokenizer_config.json',\n",
              " './marbert_finetuned_lora/special_tokens_map.json',\n",
              " './marbert_finetuned_lora/vocab.txt',\n",
              " './marbert_finetuned_lora/added_tokens.json',\n",
              " './marbert_finetuned_lora/tokenizer.json')"
            ]
          },
          "metadata": {},
          "execution_count": 96
        }
      ]
    },
    {
      "cell_type": "code",
      "source": [
        "# from google.colab import files\n",
        "# import shutil\n",
        "\n",
        "# # Zip the folder\n",
        "# shutil.make_archive(\"marbert_finetuned_lora\", 'zip', \"marbert_finetuned_lora\")\n",
        "\n",
        "# # Download\n",
        "# files.download(\"marbert_finetuned_lora.zip\")\n"
      ],
      "metadata": {
        "colab": {
          "base_uri": "https://localhost:8080/",
          "height": 17
        },
        "id": "xSsDhC2h6MWy",
        "outputId": "68f5e529-92e8-4bd4-e28e-d6cdcebd61c8"
      },
      "execution_count": null,
      "outputs": [
        {
          "output_type": "display_data",
          "data": {
            "text/plain": [
              "<IPython.core.display.Javascript object>"
            ],
            "application/javascript": [
              "\n",
              "    async function download(id, filename, size) {\n",
              "      if (!google.colab.kernel.accessAllowed) {\n",
              "        return;\n",
              "      }\n",
              "      const div = document.createElement('div');\n",
              "      const label = document.createElement('label');\n",
              "      label.textContent = `Downloading \"${filename}\": `;\n",
              "      div.appendChild(label);\n",
              "      const progress = document.createElement('progress');\n",
              "      progress.max = size;\n",
              "      div.appendChild(progress);\n",
              "      document.body.appendChild(div);\n",
              "\n",
              "      const buffers = [];\n",
              "      let downloaded = 0;\n",
              "\n",
              "      const channel = await google.colab.kernel.comms.open(id);\n",
              "      // Send a message to notify the kernel that we're ready.\n",
              "      channel.send({})\n",
              "\n",
              "      for await (const message of channel.messages) {\n",
              "        // Send a message to notify the kernel that we're ready.\n",
              "        channel.send({})\n",
              "        if (message.buffers) {\n",
              "          for (const buffer of message.buffers) {\n",
              "            buffers.push(buffer);\n",
              "            downloaded += buffer.byteLength;\n",
              "            progress.value = downloaded;\n",
              "          }\n",
              "        }\n",
              "      }\n",
              "      const blob = new Blob(buffers, {type: 'application/binary'});\n",
              "      const a = document.createElement('a');\n",
              "      a.href = window.URL.createObjectURL(blob);\n",
              "      a.download = filename;\n",
              "      div.appendChild(a);\n",
              "      a.click();\n",
              "      div.remove();\n",
              "    }\n",
              "  "
            ]
          },
          "metadata": {}
        },
        {
          "output_type": "display_data",
          "data": {
            "text/plain": [
              "<IPython.core.display.Javascript object>"
            ],
            "application/javascript": [
              "download(\"download_55942c67-efb9-44e2-94bf-9dc8a81e89f4\", \"marbert_finetuned_lora.zip\", 2285494)"
            ]
          },
          "metadata": {}
        }
      ]
    },
    {
      "cell_type": "code",
      "source": [
        "# import shutil\n",
        "\n",
        "# # Delete folder and its contents\n",
        "# shutil.rmtree(\"marbert_finetuned_lora\")\n"
      ],
      "metadata": {
        "id": "2mwW5bpy6M2p"
      },
      "execution_count": null,
      "outputs": []
    },
    {
      "cell_type": "code",
      "source": [],
      "metadata": {
        "id": "bVt9eRVM6oYT"
      },
      "execution_count": null,
      "outputs": []
    }
  ]
}